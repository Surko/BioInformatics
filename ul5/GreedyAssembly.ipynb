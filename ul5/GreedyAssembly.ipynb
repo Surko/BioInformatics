{
 "metadata": {
  "name": ""
 },
 "nbformat": 3,
 "nbformat_minor": 0,
 "worksheets": [
  {
   "cells": [
    {
     "cell_type": "heading",
     "level": 1,
     "metadata": {},
     "source": [
      "Greedy sequence assembly"
     ]
    },
    {
     "cell_type": "markdown",
     "metadata": {},
     "source": [
      "Each sequencing projects starts by a long DNA sequence.\n",
      "\n",
      "<strong>Note:</strong>  The code in this notebook is only a slight modification of the code in the book \"Python for Bioinformatics\", J. Kinser,  Jones & Bartlett pub, 2008."
     ]
    },
    {
     "cell_type": "code",
     "collapsed": false,
     "input": [
      "# Original copyright notice\n",
      "# copyright (c) Jason M. Kinser 2008\n",
      "# This code is intended for non-commercial, educational use.\n",
      "# This code may not be used for commercial purposes without written permission from the author.\n",
      "# Many routines in this file are found in:\n",
      "#  \"Python for Bioinformatics\", J. Kinser,  Jones & Bartlett pub, 2008\n",
      "\n",
      "\n",
      "from numpy import *\n",
      "\n",
      "DNAseq = \"\"\"aaaccattgttaattttttttcattaaaaaaaaaaattaaaaataagctaataaaagcttttgggct\n",
      "            catacctcaaatataaaggaaataccttttttttaaataaagtgcctgaataaaggattattctgat\n",
      "            agaataaattaagtagaaatatctacctttattatattttatagaattaaactatatctaataatat\n",
      "            caaaaattattgtgcatcttacactaaaatataatttaaataattaaaataaagaatttataattct\n",
      "            attaaatatatttatatttttttttattttaataaataataattcaaataaaatattttttttattt\n",
      "            attctattttttagaacattaatttctatttcttcaaactcatgatttggatgttgaattggattag\n",
      "            aaattaacttattaagatttatccccctaatttcaaactcaaaaaatttattatctgtagaaacctc\n",
      "            attaaaatattttctaacacaatctttagca\"\"\".replace(\" \",\"\").replace(\"\\n\",\"\")\n",
      "print DNAseq\n"
     ],
     "language": "python",
     "metadata": {},
     "outputs": [
      {
       "output_type": "stream",
       "stream": "stdout",
       "text": [
        "aaaccattgttaattttttttcattaaaaaaaaaaattaaaaataagctaataaaagcttttgggctcatacctcaaatataaaggaaataccttttttttaaataaagtgcctgaataaaggattattctgatagaataaattaagtagaaatatctacctttattatattttatagaattaaactatatctaataatatcaaaaattattgtgcatcttacactaaaatataatttaaataattaaaataaagaatttataattctattaaatatatttatatttttttttattttaataaataataattcaaataaaatattttttttatttattctattttttagaacattaatttctatttcttcaaactcatgatttggatgttgaattggattagaaattaacttattaagatttatccccctaatttcaaactcaaaaaatttattatctgtagaaacctcattaaaatattttctaacacaatctttagca\n"
       ]
      }
     ],
     "prompt_number": 8
    },
    {
     "cell_type": "markdown",
     "metadata": {},
     "source": [
      " As we are not able to read directly long DNA molecules, the long molecule is cut into short pieces. "
     ]
    },
    {
     "cell_type": "code",
     "collapsed": false,
     "input": [
      "# chop a long sequence into overlapping segments.\n",
      "# Complete converage is not guaranteed\n",
      "def ChopSeq( inseq, nsegs, length ):\n",
      "    # inseq is the input sequence\n",
      "    # nsegs is the number of segments that will be returned\n",
      "    # length is the length of each segment\n",
      "    # returns a list of sequence segments\n",
      "    segs = []\n",
      "    G = len( inseq ) - length   # last possible starting location in inseq\n",
      "    for i in range( nsegs ):\n",
      "        r = int( random.rand()*G )   # start the cut here\n",
      "        segs.append( inseq[r:r+length] )\n",
      "    return segs\n",
      "\n",
      "seqs = ChopSeq(DNAseq,30,30)\n",
      "print seqs"
     ],
     "language": "python",
     "metadata": {},
     "outputs": [
      {
       "output_type": "stream",
       "stream": "stdout",
       "text": [
        "['ttttttaaataaagtgcctgaataaaggat', 'actaaaatataatttaaataattaaaataa', 'atatatttatatttttttttattttaataa', 'ttcttcaaactcatgatttggatgttgaat', 'tacctttattatattttatagaattaaact', 'ctgaataaaggattattctgatagaataaa', 'ctacctttattatattttatagaattaaac', 'atagaattaaactatatctaataatatcaa', 'tttcattaaaaaaaaaaattaaaaataagc', 'aatatatttatatttttttttattttaata', 'ttctattttttagaacattaatttctattt', 'ttttttaaataaagtgcctgaataaaggat', 'ataattaaaataaagaatttataattctat', 'tattgtgcatcttacactaaaatataattt', 'taaattaagtagaaatatctacctttatta', 'aatatcaaaaattattgtgcatcttacact', 'atttctatttcttcaaactcatgatttgga', 'ataattaaaataaagaatttataattctat', 'ttgtgcatcttacactaaaatataatttaa', 'aaaatattttttttatttattctatttttt', 'aatttaaataattaaaataaagaatttata', 'tatatttatatttttttttattttaataaa', 'ttttaataaataataattcaaataaaatat', 'agctaataaaagcttttgggctcatacctc', 'aaaaattattgtgcatcttacactaaaata', 'gaaacctcattaaaatattttctaacacaa', 'ataaaagcttttgggctcatacctcaaata', 'atttcttcaaactcatgatttggatgttga', 'attaagatttatccccctaatttcaaactc', 'taataaaagcttttgggctcatacctcaaa']\n"
       ]
      }
     ],
     "prompt_number": 9
    },
    {
     "cell_type": "markdown",
     "metadata": {},
     "source": [
      "An assembly algorithm tries to find overlaping strings and to build longer blocks called <strong>contigs</strong>. First we must be able to find overlaping strings and determine the relative position of the overlaping sequences. A greedy methods then finds strings with biggest overlap and tries to join them within a single contig. \n",
      "\n",
      "For a given pair of strings, we must compute their optimal shift and assign a score to the shift - higher score means better alignment. The function below computes the score of an alignment of two shifted sequences. During a shift we introduce dots into the strings. The score is computed only for the overlapping part."
     ]
    },
    {
     "cell_type": "markdown",
     "metadata": {},
     "source": [
      "We will use <tt>SimpleScore</tt> for shifted sequences padded by dots. "
     ]
    },
    {
     "cell_type": "markdown",
     "metadata": {},
     "source": [
      "For each pair of short sequences we will compute optimal shift and its score."
     ]
    },
    {
     "cell_type": "code",
     "collapsed": false,
     "input": [],
     "language": "python",
     "metadata": {},
     "outputs": []
    }
   ],
   "metadata": {}
  }
 ]
}
