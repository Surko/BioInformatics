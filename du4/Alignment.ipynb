{
 "metadata": {
  "name": "Alignment"
 },
 "nbformat": 3,
 "nbformat_minor": 0,
 "worksheets": [
  {
   "cells": [
    {
     "cell_type": "code",
     "collapsed": false,
     "input": "import numpy as np\nimport gc\n\ndef readFasta(fName, verbose=1) :\n    \n    startSeqCharacter = '>'\n    retDictionary = {}\n    sequence=''\n    key=''\n    try :\n        fileObj = open(fName)\n        for line in fileObj :            \n            if len(line)==0 :                \n                continue;\n            if line.startswith(startSeqCharacter) :                \n                if key != '' :                    \n                    retDictionary[key]=sequence.partition('\\n')[0]\n                sequence=''                \n                key=line.split(' ',1)[1]                  \n                continue\n            sequence+=line        \n        if key != '' :            \n            retDictionary[key]=sequence.partition('\\n')[0]\n    except IOError:\n        print 'Can\\'t open the file', fName\n    finally :\n        fileObj.close()            \n    print 'Done with verbose=',verbose    \n    if verbose == 1 :\n        for key, sequence in retDictionary.iteritems() :\n            print 'The sequence',key,'with',len(sequence),'characters was read'\n        \n    return retDictionary\n\n# Rekurzivne vypisanie alignmentov. Funguje pre smithWaterman-a a needlemanWunsch-a. NWaffine ma svoju vlastnu nerekurzivnu alternativu\n# lebo v NWaffine pracujeme s polom T ktore je trojbunkove. Fin je matica s vytvorenymi skore (vyuzite iba pri smithWatermanovi)\ndef printBacktrace(seqA,seqB,T,Fin=[],index=[0,0],maxResults=1) :        \n    finalX=[]\n    finalY=[] \n    # Pomocna funkcia ktora rekurzivna vytvara alignment a po dosiahnuti zaciatku matice prida alignment do premennej finalX a finalY.\n    # Po pridani backtracujeme do najblizsieho indexu a vytvarame dalsie vhodne alignmenty inym vetvenim (vydanim po inej ceste v matici)\n    def recursiveBacktrace(Tvalue,fromIndex,x,y) :\n        xplus = []\n        yplus = []\n        while True :\n            # Ked dosiahneme zaciatok matice (vyuzite v SW alebo NW) alebo dosiahneme v matici skore Fin[x,y]=0 (vyuzite v SW)\n            if (Fin!=[] and Fin[fromIndex[0],fromIndex[1]]==0) or np.array_equal(fromIndex,[0,0]):                \n                global numberOfResults\n                numberOfResults+=1\n                # Po dosiahnuti tohoto bodu pridavane pismena ulozene v xplus a yplus pridame k x a y.\n                x.extend(xplus)\n                y.extend(yplus)\n                finalX.append(''.join(x))\n                finalY.append(''.join(y))\n                # Backtrace k poslednemu indexu kde sme rekurzivne volali tuto funkciu. Zaroven odstranime vsetky pismena pridane\n                # od tohoto rekurzivneho volania.\n                return x[:len(x)-len(xplus)],y[:len(y)-len(yplus)]\n            # Pridanie pismena do xplus a yplus podla toho aky je index v T. Podla prednasky.\n            if np.array_equal(Tvalue,[fromIndex[0]-1,fromIndex[1]-1])  :\n                xplus.append(seqA[fromIndex[0]-1])\n                yplus.append(seqB[fromIndex[1]-1])\n            elif np.array_equal(Tvalue,[fromIndex[0]-1,fromIndex[1]]) :\n                xplus.append(seqA[fromIndex[0]-1])\n                yplus.append('-')\n            else :\n                xplus.append('-')\n                yplus.append(seqB[fromIndex[1]-1])\n            fromIndex=Tvalue\n            # Vetvenie ked v T bolo ulozenych viacero hodnot\n            if len(T[fromIndex[0],fromIndex[1]]) > 1 :\n                x.extend(xplus)\n                y.extend(yplus)\n                for Tvalue2 in T[fromIndex[0],fromIndex[1]] :                     \n                    x,y=recursiveBacktrace(Tvalue2,fromIndex,x,y)\n                    if numberOfResults >= maxResults :\n                        return x,y\n                # Po prejdeni vsetkych moznosti backtracujeme k dalsiemu poslednemu indexu kde sme rekurzivne volali tuto funkciu.\n                # Zaroven odstranime vsetky pismena pridane od tohoto rekurzivneho volania.\n                x=x[:len(x)-len(xplus)]\n                y=y[:len(y)-len(yplus)]    \n                return x[:len(x)-len(xplus)],y[:len(y)-len(yplus)]  \n            else :\n                # Ked bol pocet hodnot v T rovny 1 tak posunieme Tvalue\n                Tvalue = T[fromIndex[0],fromIndex[1]][0]\n            \n    # Iterovanie cez prve hodnoty T a volanie recursiveBacktrace pre kazdu hodnotu    \n    for Tvalue in T[index[0],index[1]] :        \n        recursiveBacktrace(Tvalue,index,[],[]) \n        if numberOfResults >= maxResults :\n            return finalX,finalY\n        \n    return finalX,finalY\n\n# Funkcia pouzivana vo funkcii aligToFile. Ziskanie pismena {|, ,.} podla zhod\ndef getChar(x,y) :\n    if x=='-' or y=='-' :\n        return ' '    \n    elif x==y :\n        return '|'\n    else :\n        return '.'\n\n# Funkcia ktora vypise alignmenty do suboru s menom filename.\n# V hlavicke bude skore a nasledne vypise vsetky alignmenty nahromadene \n# v parametroch allX a allY.\n# Alignment dvoch sekvencii sa sklada z dvoch riadkov v ktorych su vypisane sekvencie\n# a tretieho v ktorom su znaky {|, ,.} ktore reprezentuju zhodu znaku, znak zarovnany s '-' a nezhodu znakov.\ndef aligToFile(score,allX,allY,filename) :\n    f = open(filename,'w')\n            \n    try :        \n        f.write('Skore: {0}\\n'.format([score]))\n        for i in range(len(allX)) :\n            f.write('{0}\\n'.format(allX[i][::-1]))\n            f.write('{0}\\n'.format(''.join([getChar(allX[i][j],allY[i][j]) for j in range(len(allX[i])-1,-1,-1)])))\n            f.write('{0}\\n'.format(allY[i][::-1]))\n            f.write(len(allX[i]) * '-')\n            f.write('\\n')\n    finally :\n        f.close()",
     "language": "python",
     "metadata": {},
     "outputs": [],
     "prompt_number": 8
    },
    {
     "cell_type": "code",
     "collapsed": false,
     "input": "# Algoritmus NeedlemanWunsch ako ho pozname z prednasky na hladanie globabalnych alignmentov.\n# Premenna results urcuje kolko alignemtov chceme vyprodukovat.  \ndef needlemanWunsh(seqA,seqB,match=1,mismatch=-1,gap=-1,results=1,verbose=0) :\n    # Inicializacia matice F pre hodnoty skore a T pre smer akym vytvarame alignment\n    def s(x='-',y='-') :              \n        if x=='-' or y=='-' :\n            return gap\n        elif x==y :\n            return match\n        else :\n            return mismatch\n        \n    n = len(seqA)\n    m = len(seqB)\n    \n    d = s();\n    \n    # Inicializacia matice F pre hodnoty skore a T pre smer akym vytvarame alignment\n    F = np.zeros((n+1,m+1))    \n    T = np.empty((n+1,m+1),dtype=type([]))\n    T.fill([[0,0]])\n    \n    # Doplnenie matice F a T podla prednasky. V matici T sa nachadzaju polia pre moznost vetvenia a najdenia viacerych alignmentov.\n    for i in range(1,m+1) :\n        F[0,i] =  i * d\n    for i in range(1,n+1) :\n        F[i,0] = i * d\n        \n    for i in range(n) :\n        for j in range(m) :\n            toChoose=[F[i,j]+s(seqA[i],seqB[j]),F[i,j+1]+d,F[i+1,j]+d];\n            F[i+1,j+1]=max(toChoose)            \n            index = toChoose.index(F[i+1,j+1])\n            T[i+1,j+1]=[]\n            if index==0 :\n                T[i+1,j+1].append([i,j])\n                continue\n            if index==1 :\n                T[i+1,j+1].append([i,j+1])\n                continue\n            if index==2 :\n                T[i+1,j+1].append([i+1,j])\n                continue      \n    # Skore globalneho alignmentu\n    score = F[n,m]    \n    # Globalna premenna ktora udrzuje pocet doposial vytvorenych alignmentov    \n    global numberOfResults\n    # Aktualny pocet vytvorenych alignmentov\n    numberOfResults = 0\n    # Maximalne alignmenty prehladavame od indexu [m,n] pomocou metody\n    # printBacktrace. V tejto metode sa mozeme vetvit preto mame parameter maxResults, ktory sa zastavi po vygenerovani pozadanoveho\n    # poctu alignmentov\n    x,y=printBacktrace(seqA,seqB,T,index=[n,m],maxResults=results)\n    if verbose==1 :\n        print 'Skore alignmentu je',score\n        print [''.join(x[i])[::-1] for i in range(len(x))]\n        print [''.join(y[i])[::-1] for i in range(len(y))]\n    \n    return score,x,y\n                ",
     "language": "python",
     "metadata": {},
     "outputs": [],
     "prompt_number": 9
    },
    {
     "cell_type": "code",
     "collapsed": false,
     "input": "# Algoritmus SmithWaterman ako ho pozname z prednasky na hladanie lokalnych alignmentov.\n# Premenna results urcuje kolko alignemtov chceme vyprodukovat.\ndef smithWaterman(seqA,seqB,match=1,mismatch=-1,gap=-1,results=1,verbose=0) :\n    # Funkcia ktora vrati hodnotu ked porovnavame pismeno x s y\n    def s(x='-',y='-') :              \n        if x=='-' or y=='-' :\n            return gap\n        elif x==y :\n            return match\n        else :\n            return mismatch\n    \n    n = len(seqA)\n    m = len(seqB)\n    \n    d=s()\n    \n    # Inicializacia matice F pre hodnoty skore a T pre smer akym vytvarame alignment\n    F = np.zeros((n+1,m+1),dtype=int)    \n    T = np.empty((n+1,m+1),dtype=type([]))    \n    T.fill([[0,0]])\n    \n    # Doplnenie matice F a T podla prednasky. V matici T sa nachadzaju polia pre moznost vetvenia a najdenia viacerych alignmentov.\n    for i in range(n) :\n        for j in range(m) :\n            toChoose=[F[i,j]+s(seqA[i],seqB[j]),F[i,j+1]+d,F[i+1,j]+d];\n            F[i+1,j+1]=max(toChoose)              \n            index = toChoose.index(F[i+1,j+1])\n            T[i+1,j+1]=[]\n            # Vyplnenie matice T => smer akym vytvarame alignmenty. Vysledky sa mozu vetvit => viacero alignmentov\n            if index==0 :\n                T[i+1,j+1].append([i,j])\n                toChoose.remove(F[i+1,j+1])\n                if toChoose.count(F[i+1,j+1]) > 0 : \n                    index = toChoose.index(F[i+1,j+1])\n            if index==1 :\n                T[i+1,j+1].append([i,j+1]) \n                toChoose.remove(F[i+1,j+1])\n                if toChoose.count(F[i+1,j+1]) > 0 : \n                    index = toChoose.index(F[i+1,j+1])\n            if index==2 :\n                T[i+1,j+1].append([i+1,j])\n                toChoose.remove(F[i+1,j+1])\n                if toChoose.count(F[i+1,j+1]) > 0 : \n                    index = toChoose.index(F[i+1,j+1])    \n    \n    # Skore max alignmentu\n    l = np.amax(F)\n    # Indexy kde sa nachadzaju maxima => odtial zacneme vytvarat lokalny alignment\n    maxindices = np.argwhere(F == np.amax(F))\n    if verbose==1 :\n        print 'Nasiel som',len(maxindices),'local alignments so skore',l\n    \n    # Globalna premenna ktora udrzuje pocet doposial vytvorenych alignmentov\n    global numberOfResults\n    # Aktualny pocet vytvorenych alignmentov\n    numberOfResults = 0\n    finalX=[]\n    finalY=[]\n    \n    # Pre najdene indexy maximalnych alignmentov iterujeme a ukladame alignmenty do poli finalX a finalY. Alignmenty ziskavame funkciou\n    # printBacktrace\n    for i in range(len(maxindices)) :        \n        if numberOfResults >= results : \n            break\n        x,y = printBacktrace(seqA, seqB, T, F, index=maxindices[i], maxResults = results)                    \n        if verbose==1 :\n            for j in range(len(x)) :\n                print '%2d -%2d alignment ma  \\n --> %17s \\n --> %17s' % (i+1,j+1,''.join(x[j])[::-1],''.join(y[j])[::-1]) \n        finalX.extend(x)\n        finalY.extend(y)\n    \n    return l,finalX,finalY",
     "language": "python",
     "metadata": {},
     "outputs": [],
     "prompt_number": 10
    },
    {
     "cell_type": "code",
     "collapsed": false,
     "input": "#Algoritmus NeedlemanWunsch s afinnym skore.\ndef NWaffine(seqA,seqB,match=1,mismatch=-1,gapopen=-1,gapext=-0.5,verbose = 0) :    \n    # Pomocna funkcia na ziskanie alignmentu\n    # fromIndex je index z ktoreho zaciname vyberat pismena do alignmentu\n    # fromCell je index bunky (M,Ix,Iy) z ktorej zaciname a podla toho rozhodujeme ci budeme mat pismeno alebo medzeru\n    # T je matica ktora popisuje ako konstruujeme alignment. Prechadzame bunkami a doplname pismena\n    def printAffineBacktrace(fromIndex,fromCell,T) :\n        finalX=[]\n        finalY=[]\n        while True :\n            x=seqA[fromIndex[0]-1]\n            y=seqB[fromIndex[1]-1]\n            if fromCell==0 :\n                finalX.append(x)\n                finalY.append(y)\n                fromCell=T[fromIndex[0],fromIndex[1]][fromCell]\n                fromIndex = [fromIndex[0]-1,fromIndex[1]-1]\n            elif fromCell==1 :\n                finalX.append('-')\n                finalY.append(y)\n                fromCell=T[fromIndex[0],fromIndex[1]][fromCell]\n                fromIndex = [fromIndex[0],fromIndex[1]-1] \n            else :\n                finalX.append(x)\n                finalY.append('-')\n                fromCell=T[fromIndex[0],fromIndex[1]][fromCell]*2\n                fromIndex = [fromIndex[0]-1,fromIndex[1]]                            \n            if np.array_equal(fromIndex,[0,0]) :\n                break\n        return finalX,finalY\n    \n    # Funkcia ktora vrati hodnotu ked porovnavame pismeno x s y\n    def s(x='-',y='-') :              \n        if x=='-' or y=='-' :\n            return gapopen\n        elif x==y :            \n            return match\n        else :            \n            return mismatch\n        \n    n = len(seqA)\n    m = len(seqB)        \n    \n    F = np.zeros((n+1,m+1),dtype=(float,3))\n    T = np.zeros((n+1,m+1),dtype=(int,3))\n    \n    # Preddefinovanie matice F ktora ma v sebe 3 hodnoty (M,Ix,Iy)\n    F[0,0][0]=0\n    F[0,0][1]=-float(\"inf\")\n    F[0,0][2]=-float(\"inf\")\n    \n    # Doplnenie hodnot tak ako je to v PDF\n    for i in range(1,m+1) :\n        F[0,i][0] =  -float(\"inf\")\n        F[0,i][1] =  gapopen+(i-1)*gapext\n        F[0,i][2] =  -float(\"inf\")\n        T[0,i][1]= 1\n    T[0,1][1]=0\n    for i in range(1,n+1) :\n        F[i,0][0] = -float(\"inf\")\n        F[i,0][1] = -float(\"inf\")\n        F[i,0][2] = gapopen+(i-1)*gapext    \n        T[i,0][2]= 1\n    T[1,0][2]=0\n        \n    # Prejdenie n*m prvkov a postupne vyplnanie matice F podla prednasky\n    for i in range(n) :\n        for j in range(m) :\n            M=[F[i,j][0]+s(seqA[i],seqB[j]),F[i,j][1]+s(seqA[i],seqB[j]),F[i,j][2]+s(seqA[i],seqB[j])];\n            Ix=[F[i+1,j][0]+gapopen,F[i+1,j][1]+gapext];\n            Iy=[F[i,j+1][0]+gapopen,F[i,j+1][2]+gapext];\n            F[i+1,j+1][0]=max(M) \n            F[i+1,j+1][1]=max(Ix)\n            F[i+1,j+1][2]=max(Iy)\n            T[i+1,j+1][0]=M.index(F[i+1,j+1][0])\n            T[i+1,j+1][1]=Ix.index(F[i+1,j+1][1])\n            T[i+1,j+1][2]=Iy.index(F[i+1,j+1][2])\n             \n    # Maximalna hodnota => skore v matici F na poziciach [n,m] kedze vytvarame globalny alignment.\n    score = max(F[n,m])\n    # Ziskanie buniek, z ktorych budeme zacinat\n    fromCell = np.argwhere(F[n,m]==score)  \n    finalX=[]\n    finalY=[]\n    \n    if verbose==1 :\n        print 'Skore alignmentu je',score,'\\n'\n    \n    # Vytvorenie alignmentu do premennych x a y, ktore pripojime do kompletneho pola alignmentov finalX, finalY.\n    # V tomto pripade neuvazujeme rozne vetvenie alignmentov. Najviac mozme dostat 3 alignemty a to vtedy ked na pozicii [n,m]\n    # v poli F su rovnake cisla.\n    for i in range(len(fromCell)) :\n        x,y=printAffineBacktrace([n,m],fromCell[i][0],T)                \n        finalX.append(''.join(x))\n        finalY.append(''.join(y))\n            \n    return score,finalX,finalY",
     "language": "python",
     "metadata": {},
     "outputs": [],
     "prompt_number": 24
    },
    {
     "cell_type": "code",
     "collapsed": false,
     "input": "# Nacitanie Fasta suborov s nukleotidmi. Nasledne na kazdu dvojicu zavolam algoritmus needlemanWunsch alebo smithWaterman\nother=readFasta('d:\\cvicenia\\BioInformatics\\du4\\H.fasta',verbose=0);\nseqH=other.values()[0]\nother=readFasta('d:\\cvicenia\\BioInformatics\\du4\\I.fasta',verbose=0);\nseqI=other.values()[0]\nother=readFasta('d:\\cvicenia\\BioInformatics\\du4\\J.fasta',verbose=0);\nseqJ=other.values()[0]\n\n# algoritmy spustam s parametrami match, mismatch a gap ako je zadane. Kazdy vysledok ukladam do suboru pomocou funkcie aligToFile\n\nscore,x,y = needlemanWunsh(seqH,seqI,match=1,mismatch=-1,gap=-2,verbose=0);\naligToFile(score,x,y,'d:\\cvicenia\\BioInformatics\\du4\\globH-I.alignment')\n\ngc.collect()\n\nscore,x,y = needlemanWunsh(seqH,seqJ,match=1,mismatch=-1,gap=-2,verbose=0);\naligToFile(score,x,y,'d:\\cvicenia\\BioInformatics\\du4\\globH-J.alignment')\n\ngc.collect()\n\nscore,x,y = needlemanWunsh(seqI,seqJ,match=1,mismatch=-1,gap=-2,verbose=0);\naligToFile(score,x,y,'d:\\cvicenia\\BioInformatics\\du4\\globI-J.alignment')\n\ngc.collect()\n\nscore,x,y,indices = smithWaterman(seqH,seqI,match=1,mismatch=-1,gap=-2,verbose=0);\naligToFile(score,x,y,'d:\\cvicenia\\BioInformatics\\du4\\locH-I.alignment')\n\ngc.collect()\n\nscore,x,y,indices = smithWaterman(seqH,seqJ,match=1,mismatch=-1,gap=-2,verbose=0);\naligToFile(score,x,y,'d:\\cvicenia\\BioInformatics\\du4\\locH-J.alignment')\n\ngc.collect()\n\nscore,x,y,indices = smithWaterman(seqI,seqJ,match=1,mismatch=-1,gap=-2,verbose=0);\naligToFile(score,x,y,'d:\\cvicenia\\BioInformatics\\du4\\locI-J.alignment')",
     "language": "python",
     "metadata": {},
     "outputs": [
      {
       "output_type": "stream",
       "stream": "stdout",
       "text": "Done with verbose= 0\nDone with verbose= 0\nDone with verbose= 0\n"
      }
     ],
     "prompt_number": 48
    },
    {
     "cell_type": "code",
     "collapsed": false,
     "input": "other=readFasta('d:\\cvicenia\\BioInformatics\\du4\\InsulinHuman.fasta',verbose=0);\nseqH=other.values()[0]\nother=readFasta('d:\\cvicenia\\BioInformatics\\du4\\InsulinRat.fasta',verbose=0);\nseqR=other.values()[0]\nother=readFasta('d:\\cvicenia\\BioInformatics\\du4\\InsulinMusculus.fasta',verbose=0);\nseqM=other.values()[0]\n\nscore,x,y = NWaffine(seqH,seqR,match=1,mismatch=-1,gapopen=-2,gapext=-1,verbose=0);\naligToFile(score,x,y,'d:\\cvicenia\\BioInformatics\\du4\\globInsH-R.alignment')\n\ngc.collect()\n\nscore,x,y = NWaffine(seqH,seqM,match=1,mismatch=-1,gapopen=-2,gapext=-1,verbose=0);\naligToFile(score,x,y,'d:\\cvicenia\\BioInformatics\\du4\\globInsH-M.alignment')\n\ngc.collect()\n\nscore,x,y = NWaffine(seqR,seqM,match=1,mismatch=-1,gapopen=-2,gapext=-1,verbose=0);\naligToFile(score,x,y,'d:\\cvicenia\\BioInformatics\\du4\\globInsR-M.alignment')\n\ngc.collect()",
     "language": "python",
     "metadata": {},
     "outputs": [
      {
       "output_type": "stream",
       "stream": "stdout",
       "text": "Done with verbose= 0\nDone with verbose= 0\nDone with verbose= 0\n"
      },
      {
       "metadata": {},
       "output_type": "pyout",
       "prompt_number": 25,
       "text": "0"
      }
     ],
     "prompt_number": 25
    },
    {
     "cell_type": "heading",
     "level": 2,
     "metadata": {},
     "source": "Testy na algoritmy z roznych internetovych zdrojov"
    },
    {
     "cell_type": "code",
     "collapsed": false,
     "input": "needlemanWunsh('TCCCAGTTATGTCAGGGCC','CAGCAGTTATGTCAGATGC',verbose=1);",
     "language": "python",
     "metadata": {},
     "outputs": [
      {
       "output_type": "stream",
       "stream": "stdout",
       "text": "Skore alignmentu je 9.0\n['TC-CCAGTTATGTCAG-GGCC']\n['-CAGCAGTTATGTCAGATG-C']\n"
      }
     ],
     "prompt_number": 50
    },
    {
     "cell_type": "code",
     "collapsed": false,
     "input": "smithWaterman('TCCCAGTTATGTCAGGGCC','CAGCAGTTATGTCAGATGC',verbose=1);",
     "language": "python",
     "metadata": {},
     "outputs": [
      {
       "output_type": "stream",
       "stream": "stdout",
       "text": "Nasiel som 2 local alignments so skore 11\n 1 - 1 alignment ma  \n -->       AGTTATGTCAG \n -->       AGTTATGTCAG\n"
      }
     ],
     "prompt_number": 51
    },
    {
     "cell_type": "code",
     "collapsed": false,
     "input": "X='AAAAACTCTCTCT'\nY='GCGCGCGCAAAAA'\nneedlemanWunsh(X,Y,verbose=1);\nsmithWaterman(X,Y,verbose=1);",
     "language": "python",
     "metadata": {},
     "outputs": [
      {
       "output_type": "stream",
       "stream": "stdout",
       "text": "Skore alignmentu je -9.0\n['AAAAACTCTCTCT']\n['GCGCGCGCAAAAA']\nNasiel som 1 local alignments so skore 5\n 1 - 1 alignment ma  \n -->             AAAAA \n -->             AAAAA\n"
      }
     ],
     "prompt_number": 52
    },
    {
     "cell_type": "markdown",
     "metadata": {},
     "source": "Skore lokalneho alignmentu je take, ake sme si ho ukazovali na prednaske"
    },
    {
     "cell_type": "code",
     "collapsed": false,
     "input": "X='MPRCLCQRJNCBA'\nY='PBRCKCRNJCJA'\nneedlemanWunsh(X,Y,verbose=1);\nsmithWaterman(X,Y,verbose=1);",
     "language": "python",
     "metadata": {},
     "outputs": [
      {
       "output_type": "stream",
       "stream": "stdout",
       "text": "Skore alignmentu je 1.0\n['MP-RCLCQR-JNCBA']\n['-PBRCKC-RNJ-CJA']\nNasiel som 7 local alignments so skore 2\n 1 - 1 alignment ma  \n -->                RC \n -->                RC\n"
      }
     ],
     "prompt_number": 53
    },
    {
     "cell_type": "code",
     "collapsed": false,
     "input": "X='CGTGAATTCAT'\nY='GACTTAC'\nneedlemanWunsh(X,Y,verbose=1);\nsmithWaterman(X,Y,match=5,mismatch=-3,gap=-4,results=2,verbose=1);",
     "language": "python",
     "metadata": {},
     "outputs": [
      {
       "output_type": "stream",
       "stream": "stdout",
       "text": "Skore alignmentu je -1.0\n['-GAATTCAT']\n['CGACTT-AC']\nNasiel som 2 local alignments so skore 18\n 1 - 1 alignment ma  \n -->           GAATT-C \n -->           GACTTAC\n 2 - 1 alignment ma  \n -->           GAATTCA \n -->           GACTT-A\n"
      }
     ],
     "prompt_number": 57
    },
    {
     "cell_type": "markdown",
     "metadata": {},
     "source": "Ocakavany vystup lokalneho alignmentu zo stranky amrita.vlab\n\n<img src=\"http://amrita.vlab.co.in/userfiles/1/image/Figure%205(2).jpg\">\n"
    },
    {
     "cell_type": "code",
     "collapsed": false,
     "input": "X = 'ACACACTA'\nY = 'AGCACACA'\nneedlemanWunsh(X,Y,verbose=1);\nsmithWaterman(X,Y,match=5,mismatch=-3,gap=-4,verbose=1);",
     "language": "python",
     "metadata": {},
     "outputs": [
      {
       "output_type": "stream",
       "stream": "stdout",
       "text": "Skore alignmentu je 5.0\n['A-CACACTA']\n['AGCACAC-A']\nNasiel som 1 local alignments so skore 27\n 1 - 1 alignment ma  \n -->         A-CACACTA \n -->         AGCACAC-A\n"
      }
     ],
     "prompt_number": 58
    },
    {
     "cell_type": "markdown",
     "metadata": {},
     "source": "Lokalny alignment je rovnaky ako je na wikipedii"
    },
    {
     "cell_type": "code",
     "collapsed": false,
     "input": "X = 'TTG'\nY = 'TTAGT'\n\nscore=NWaffine(X,Y,match=1,mismatch=-1,gapopen=-3,gapext=-1,verbose=1);",
     "language": "python",
     "metadata": {},
     "outputs": [
      {
       "output_type": "stream",
       "stream": "stdout",
       "text": "Skore alignmentu je -3.0 \n\nTT--G\nTTAGT\n\n\nTT-G-\nTTAGT\n\n\n"
      }
     ],
     "prompt_number": 60
    },
    {
     "cell_type": "markdown",
     "metadata": {},
     "source": "Test na alignment sekvencie zadanej v parametri test pri gapopen=-2, gapext=-1, match=1, mismatch=-1"
    },
    {
     "cell_type": "code",
     "collapsed": false,
     "input": "test='|.||||||||||.|.||||||||||.|.|||||||||||||    ||||.||||||.||||||||||||||||||||||||||||||||||||||||||||||.|||||||||||.||.|.||..||||||||||||||||.|||||||||||||||.|.|||||||||||||||||.|||||||||||||||||.|||||.||||||||||||||||.||||||.|||||||||||||||||.||||||.|||||||||||||||||||||||||||..||.||.||.|||||||||||||||||||||||.||||.||||||||||||||||||.|||||||||||||||||||||||||||||||||||.||||||||||||||||||| || .|||||||| |||.|||.||||||||||||||||||||.|||||||||||||||             ||||||'\n\nbeg = False;\nskore = 0;\n\nfor i in range(len(test)) :\n    if test[i]=='|' :\n        skore = skore + 1;\n        beg = False;\n        continue\n    if test[i]=='.' :\n        skore = skore - 1;\n        beg = False;\n        continue\n    if test[i]==' ' :\n        if beg :\n            skore = skore - 1;\n        else :\n            beg = True\n            skore = skore - 2;\n\nprint skore            \n        ",
     "language": "python",
     "metadata": {},
     "outputs": [
      {
       "output_type": "stream",
       "stream": "stdout",
       "text": "352\n"
      }
     ],
     "prompt_number": 31
    },
    {
     "cell_type": "code",
     "collapsed": false,
     "input": "",
     "language": "python",
     "metadata": {},
     "outputs": []
    }
   ],
   "metadata": {}
  }
 ]
}