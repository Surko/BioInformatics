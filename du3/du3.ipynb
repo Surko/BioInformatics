{
 "metadata": {
  "name": "du3"
 },
 "nbformat": 3,
 "nbformat_minor": 0,
 "worksheets": [
  {
   "cells": [
    {
     "cell_type": "heading",
     "level": 1,
     "metadata": {},
     "source": "Gibbs Sampling"
    },
    {
     "cell_type": "markdown",
     "metadata": {},
     "source": "V s\u00fabore MotSam.fasta m\u00e1me 10 DNA sekvenci\u00ed d\u013a\u017eky 600 b\u00e1z, v ktor\u00fdch je (umelo pridan\u00fd) mot\u00edv d\u013a\u017eky 15 symbolov s maxim\u00e1lne 4 mut\u00e1ciami v ka\u017edom re\u0165azci. Naprogramujte vlasnt\u00fa verziu Gibbsovho vzorkovania a pok\u00faste sa n\u00e1js\u0165 tento mot\u00edv. Odovzdajte\nProgram - va\u0161u implement\u00e1ciu Gibbsovho vzorkovania. Navrhnite, \u010do by mal program zobrazova\u0165 v priebehu v\u00fdpo\u010dtu, aby sme mohli sledova\u0165 v\u00fdvoj kvality n\u00e1jden\u00fdch mot\u00edvov.\nTextov\u00fd popis v\u00e1\u0161ho rie\u0161enia s v\u00fdsledkami \nak\u00fd mot\u00edv ste na\u0161li s ak\u00fdmi parametrami programu v sekvenci\u00e1ch v s\u00fabore MotSam.fasta,\nako dlho to trvalo, \u010do bolo vidie\u0165 v priebehu v\u00fdpo\u010dtu.\nPre n\u00e1jden\u00fd mot\u00edv uve\u010fte jeho sk\u00f3re, tj. vzdialenos\u0165 k re\u0165azcom DNA.\nAko by sa dalo vylep\u0161i\u0165 Gibbsovo vzorkovanie, aby bolo spo\u013eahlivej\u0161ie, r\u00fdchlej\u0161ie a pod.\nAk\u00e9 v\u00fdsledky d\u00e1va v\u00e1\u0161 program pri h\u013eadan\u00ed mot\u00edvu d\u013a\u017eky 9 b\u00e1z s maxim\u00e1lne 4 mut\u00e1ciami na sekvenci\u00e1ch v s\u00fabore MotSamShort.fasta? Ako sa l\u00ed\u0161il priebeh v\u00fdpo\u010dtu nad druh\u00fdm zadan\u00edm od v\u00fdpo\u010dtu nad prv\u00fdm zadan\u00edm?"
    },
    {
     "cell_type": "heading",
     "level": 2,
     "metadata": {},
     "source": "Pomocn\u00e9 funkcie pre gibbsovo vzorkovanie"
    },
    {
     "cell_type": "code",
     "collapsed": false,
     "input": "import random as r\nimport numpy as np\nimport os\nimport time\n\nseq1file='d:\\cvicenia\\BioInformatics\\du3\\MotSam.fasta'\nseq2file='d:\\cvicenia\\BioInformatics\\du3\\MotSamShort.fasta'",
     "language": "python",
     "metadata": {},
     "outputs": [],
     "prompt_number": 9
    },
    {
     "cell_type": "code",
     "collapsed": false,
     "input": "def readFasta(fName, verbose=1) :\n    \n    startSeqCharacter = '>'\n    retDictionary = {}\n    sequence=''\n    key=''\n    try :\n        fileObj = open(fName)\n        for line in fileObj :            \n            if len(line)==0 :                \n                continue;\n            if line.startswith(startSeqCharacter) :                \n                if key != '' :                    \n                    retDictionary[key]=sequence.partition('\\n')[0]\n                sequence=''\n                key=line.split(' ',1)[0][1:]  \n                continue\n            sequence+=line\n        if key != '' :            \n            retDictionary[key]=sequence.partition('\\n')[0]\n    except IOError:\n        print 'Can\\'t open the file', fName\n    finally :\n        fileObj.close()\n    print 'Done with verbose=',verbose    \n    if verbose == 1 :\n        for key, sequence in retDictionary.iteritems() :\n            print 'The sequence',key,'with',len(sequence),'characters was read'\n        \n    return retDictionary",
     "language": "python",
     "metadata": {},
     "outputs": [],
     "prompt_number": 10
    },
    {
     "cell_type": "code",
     "collapsed": false,
     "input": "# definovanie indexov pre baze\nnuclMatrixInd={'a':0,'A':0,'c':1,'C':1,'g':2,'G':2,'t':3,'T':3};\nnuclMatrixInv=['A','C','G','T']\n\ndef gibbsSampling(sequences,l,mut,N,choice=0,verbose=0) :\n    size = len(sequences)\n    \n    # Ziskanie nahodnych l-merov zo sekvencii. Z kazdej sekvencie jeden.\n    lMers=randInitMers(sequences,l,choice)    \n        \n    # Ziskanie 4 prvkoveho pola kde je vycet baz zo sekvencii.[#A,#C,#G,#T]\n    allQ = nuclCount(sequences)\n    \n    # aktualna iteracia\n    iteration = 0;\n    # aktualne skore\n    score = 0        \n    \n    #Predchadzjuce lmery - vyuzite pri moznosti 2\n    prevlMers=np.empty((size,l),dtype=str)\n    \n    # Nastavenie najlepsieho motifu a najlepsieho skore pomocou funkcie getScore\n    bestMotif,scoreBest = getScore(lMers,l)           \n    # Nastavenie najlepsich l-merov do premennej bestMers\n    bestMers = lMers.copy()\n        \n    # Beh algoritmu dokym neprebehne pocet iteracii N\n    for i in range(N) :                                        \n        if choice == 2 :\n            if (prevlMers==lMers).all() :\n                bestMers = lMers;\n                bestMotif = motif;\n                scoreBest = scoreOrig;\n                break\n            else :\n                prevlMers = lMers.copy()\n        \n        # Nahodne cislo \n        h = r.randint(0,size-1);\n        \n        # Vystavenie profilu z a1,a2,...,ah-1,ah+1,...,at vybranych l-merov\n        X = buildProfile(lMers[range(h)+range(h+1,size),:],l);\n                \n        # Nahodne vybrata sekvencia \n        DNAh = sequences[h];\n        \n        # Ziskanie poctu baz dokopy v sekvenciach\n        Q = (allQ - nuclCount(DNAh));\n        # A znich relativne cetnosti\n        Q /= sum(Q)\n        \n        # Pravdepodobnostne pole w pomocou list comprehension\n        w=[probW(DNAh[i:i+l],X,Q) for i in range(len(DNAh)-l)]\n        # suma vsetkych w\n        sumW = sum(w)\n        \n        # Ked je suma rovna nule tak pravdepodobnost vsetkych l-merov bola nulova.\n        # V takomto pripade nastavime nove ah na nahodny l-mer a dalej iterujeme.\n        if sumW == 0 :\n            newAhIndex = r.randint(0,len(DNAh)-l)\n        else :\n            # Musime ziskat urcite a. Kazde a ma pravdepodobnost urcenu z w(a)/sum(w)\n            w/=sumW;\n            # Nahodne cislo na ziskanie a-cka. Kazda pravdepodobnost z w obsadzuje urcity vysek a podla pravdepodobnosti urcime, co za usek to je.            \n            rProb = r.random();\n            p = 0;\n            newAhIndex = 0;\n            \n            while True :\n                p += w[newAhIndex];\n                if p > rProb :\n                    break;\n                newAhIndex+=1;                            \n        \n        # l-mer ah nastavime na novy. Z DNAh vyberieme sekvenciu dlzky l\n        lMers[h,:]=list(DNAh[newAhIndex:newAhIndex+l])\n\n        # Iterovanie\n        iteration+=1\n        \n        #Motif a skore z aktualnych lmerov.\n        motif,scoreOrig = getScore(lMers,l)\n        \n        # Ked je skore novych l-merov menej ako scoreBest tak su to zatial najlepsie lmery\n        if scoreOrig < scoreBest :\n            bestMotif = motif\n            bestMers = lMers.copy()\n            scoreBest = scoreOrig\n           \n    if verbose==1 :    \n        print 'Vypocet som skoncil na',iteration,'iteracii' \n        \n    return bestMotif,scoreBest,bestMers       \n        ",
     "language": "python",
     "metadata": {},
     "outputs": [],
     "prompt_number": 11
    },
    {
     "cell_type": "code",
     "collapsed": false,
     "input": "def randInitMers(sequences,l,choice=0) :    \n    size = len(sequences)\n    # l-mery budeme mat ulozene v numpy matici stringov.\n    lMers=np.empty((size,l),dtype=str)\n    for i in range(size) :\n        while True :     \n            # Vybranie nahodnych l-merov z kazdej sekvencie\n            newSeq = randomSelectLMer(sequences[i],l)            \n            if choice==0 :\n                # Pridavanie l-meru do riadku. Nato aby v kazdej bunke bol iba jeden char tak musim pouzit funkciu list\n                lMers[i,:]=list(newSeq);\n                break;\n            elif choice==1 :\n                # Just a test\n                # Vyberanie iba takych sekvencii, ktore maju od ostatnych vzdialenost najviac 2 * mut    \n                # Dangerously slow!!!\n                dist=[hamDist(newSeq,_seq) for _seq in lMers]                                              \n                if dist==[] or max(dist) <= 2 * mut :\n                    lMers[i,:]=list(newSeq);\n                    break; \n            else :\n                lMers[i,:]=list(newSeq);\n                break; \n    return lMers",
     "language": "python",
     "metadata": {},
     "outputs": [],
     "prompt_number": 12
    },
    {
     "cell_type": "code",
     "collapsed": false,
     "input": "# Ziskanie skore a consensus motivu pre l-mery dlzky l\ndef getScore(lMers,l) :        \n    score = 0\n    # Pole kam budeme ukladat pismenka motivu\n    bestMotif=[]\n    for i in range(lMers.shape[1]) :\n        # Pole ktore reprezentuje jeden stlpec skorovacej tabulky => 1. prvok je pocet A-cok v sekvenciach na 1. mieste, 2. prvok je pocet C-cok... atd        \n        dictionar=[0,0,0,0]\n        for c in lMers[:,i] :\n            dictionar[nuclMatrixInd[c]]+=1\n        # Po iteraciach mozme zistit ktora baza sa tam nachadza najviac => priradenie bazy do bestMotif. Skore ziskame sum(dictionar)-max(dictionar)\n        maximum=max(dictionar)\n        # Index maxima na zistenie pismenka\n        maxIndex=dictionar.index(maximum)\n        # Scitavanie skore pre kazdy stlpec\n        score+=sum(dictionar)-maximum\n        # Pridanie pismenka do bestMotif\n        bestMotif.append(nuclMatrixInv[maxIndex])\n    return ''.join(bestMotif),score",
     "language": "python",
     "metadata": {},
     "outputs": [],
     "prompt_number": 13
    },
    {
     "cell_type": "code",
     "collapsed": false,
     "input": "def hamDist(seqA,seqB) :   \n    #print seqA,seqB\n    dist = 0;  \n    for i in range(len(seqA)) :\n        if seqA[i]!=seqB[i] :\n            dist+=1\n    return dist;",
     "language": "python",
     "metadata": {},
     "outputs": [],
     "prompt_number": 14
    },
    {
     "cell_type": "code",
     "collapsed": false,
     "input": "# Ziskanie w(a) = P(a|X) / P(a|Q)\ndef probW(a,X,Q) :\n    pX = 1.0;\n    for i in range(len(a)) :\n        pX*=X[nuclMatrixInd[a[i]],i]\n    pQ = 1.0;\n    for i in range(len(a)) :\n        pQ*=Q[nuclMatrixInd[a[i]]]\n    return pX/pQ\n    ",
     "language": "python",
     "metadata": {},
     "outputs": [],
     "prompt_number": 15
    },
    {
     "cell_type": "code",
     "collapsed": false,
     "input": "# Metoda, ktora navrati nahodne vybrany lmer zo sekvencie seq\ndef randomSelectLMer(seq,l,verbose=0) :\n    # Startovacia pozicia nahodne zvoleneho l-meru\n    lmerStart = r.randint(0,len(seq)-l)\n    if verbose==1 :\n        print lmerStart\n    # Ziskanie podretazca\n    return seq[lmerStart:lmerStart+l]    ",
     "language": "python",
     "metadata": {},
     "outputs": [],
     "prompt_number": 16
    },
    {
     "cell_type": "code",
     "collapsed": false,
     "input": "# Pocitanie globalnych frekvencii bazi\ndef nuclCount(sequences) :\n    nuclArr=np.array([0.0,0.0,0.0,0.0]);\n    # Pre kazdu sekvenciu\n    for seq in sequences :\n        # Prechadzam kazdym pismenom a pridavam do dictionary\n        for c in seq :\n            nuclArr[nuclMatrixInd[c]]+=1\n    return nuclArr",
     "language": "python",
     "metadata": {},
     "outputs": [],
     "prompt_number": 17
    },
    {
     "cell_type": "code",
     "collapsed": false,
     "input": "# Vytvorenie profilu zo sekvencii zadanymi v poli sequencii. Dlzka profilu bude l\ndef buildProfile(sequences,l,verbose=0) :\n    numOfSeq = len(sequences) + 4;\n    # Preddefinovanie profilu, tak ze defaultne hodnoty budu 1. To znamena ze kazda baza sa nachadza ako keby o jednu viac\n    profile = np.ones((4,l),dtype=float);\n    # Vytvaranie poctoveho profilu pre kazdu sekvenciu. profile[baza,i] = Pocet bazi na i-tom mieste v danych sekvenciach\n    for seq in sequences :\n        for i in range(l) :\n            profile[nuclMatrixInd[seq[i]],i]+=1;\n    \n    # Vytvorenie profilu relativneho poctu. profile[baza,i] = Pravdepodobnost ze na i-tom mieste v danych sekvenciach bola dana baza\n    for i in range(l) :\n        # Ziskanie relativneho poctu pre kazdu bazu => predelenie kazdej bunky v jednom stlpci sumou.\n        profile[:,i]/=numOfSeq\n    \n    return profile",
     "language": "python",
     "metadata": {},
     "outputs": [],
     "prompt_number": 18
    },
    {
     "cell_type": "heading",
     "level": 2,
     "metadata": {},
     "source": "Hlavn\u00e9 vykonanie gibbsovho vzorkovania pre MotSam"
    },
    {
     "cell_type": "markdown",
     "metadata": {},
     "source": "Pustanie gibbsovho vzorkovania na MotSam.fasta s poctom baz 15 a maximalne 4 mutaciami. Do premennych motif,score,array ukladame navratove hodnoty z metody.Tie zodpovedaju consensus motivu, skore consensus motivu od ostatnych sekvencii => sucet vzdialenosti od ostatnych sekvencii a vypis najdenych sekvencii. \n\nKedze skore obsahuje sucet vzdialenosti consensus motivu od ostatnych sekvencii a vieme ze sa maju vyskytovat najviac 4 mutacie, tak jedini vhodni kandidati su taki, kde skore bude menej ako 40 (pocetsekvencii * pocetmutacii). Nie kazdy takyto je ale optimalny. Tych najlepsich kandidatov si ukladame do 10 prvkoveho pola aby sme mohli vidiet ako sa vyvijalo hladanie riesenia.\n\nCelkova rychlost gibbsovho vzorkovania zavisi od poctu bazi (teraz 15) ako aj od poctu iteracii v ramci jedneho vzorkovania(v mojom pripade 200) ci pocet opakovani gibbsovho vzorkovania (v mojom pripade 50).\n\nTaktiez som skusal zvacsit pocet opakovani gibbsovho vzorkovania na 500."
    },
    {
     "cell_type": "code",
     "collapsed": false,
     "input": "# Nacitanie sekvencii z fasta suboru\nsequences1 = readFasta(seq1file,verbose=0);\n# ziskanie hodnot\nvalues = sequences1.values()\n# a klucov, ktore nevyuzijeme\nkeys = sequences1.keys()\n\n# Vytvorenie pola do ktoreho budeme ukladat 10 najlepsich behov\nbest=[['',150,[]] for i in range(10)]\n\ntimeArray=[]\n\n# 50 krat opakujeme gibbsovo samplovanie s \nfor j in range(50) :\n    # Nastavime casovac pre kazdu iteraciu\n    start=time.clock()\n    # Samplovanie pustame s dlzkou motivu 15. Argument 200 znaci kolko krat opakujeme iterovanie motivmi\n    motif,score,array = gibbsSampling(values,15,4,200,choice=0)\n    # Vypisanie aktualnej iteracie opakovania a ziskaneho skore\n    print 'Iter:',j,'with score',score,'and motif',motif\n    # Nasledne priradim tuto trojicu do pola best na index kam patri. Ked pole pretecie tak vymazem posledny prvok (ten najvacsi)\n    for k in range(10) :\n        if score < best[k][1] :\n            best.insert(k,[motif,score,array])\n            del best[-1]\n            break\n    timeArray.append(time.clock()-start)        \n\n# Vypis ako rychlo zbehol vypocet\nprint 'Gibbsovo vzorkovanie zbehlo v case',sum(timeArray)    ",
     "language": "python",
     "metadata": {},
     "outputs": [
      {
       "output_type": "stream",
       "stream": "stdout",
       "text": "Done with verbose= 0\nIter:"
      },
      {
       "output_type": "stream",
       "stream": "stdout",
       "text": " 0 with score 50 and motif AGTTATATATTATGA\nIter:"
      },
      {
       "output_type": "stream",
       "stream": "stdout",
       "text": " 1 with score 55 and motif ATCATGCAAAATGTC\nIter:"
      },
      {
       "output_type": "stream",
       "stream": "stdout",
       "text": " 2 with score 59 and motif CGAGGAGCTGCGGTG\nIter:"
      },
      {
       "output_type": "stream",
       "stream": "stdout",
       "text": " 3 with score 54 and motif ATTTATGCCAACGGG\nIter:"
      },
      {
       "output_type": "stream",
       "stream": "stdout",
       "text": " 4 with score 57 and motif ACAGCCAGCTTGACC\nIter:"
      },
      {
       "output_type": "stream",
       "stream": "stdout",
       "text": " 5 with score 52 and motif TGTCAGCCGGCGCAC\nIter:"
      },
      {
       "output_type": "stream",
       "stream": "stdout",
       "text": " 6 with score 50 and motif CGGGCCAAATTAGGT\nIter:"
      },
      {
       "output_type": "stream",
       "stream": "stdout",
       "text": " 7 with score 53 and motif CTAAGGTCAGCAGTG\nIter:"
      },
      {
       "output_type": "stream",
       "stream": "stdout",
       "text": " 8 with score 56 and motif CGCCACTGTCAATTA\nIter:"
      },
      {
       "output_type": "stream",
       "stream": "stdout",
       "text": " 9 with score 57 and motif AGACGTTCAACCGTC\nIter:"
      },
      {
       "output_type": "stream",
       "stream": "stdout",
       "text": " 10 with score 51 and motif GCATTCAAAACCATT\nIter:"
      },
      {
       "output_type": "stream",
       "stream": "stdout",
       "text": " 11 with score 55 and motif CGGACTATACAATAA\nIter:"
      },
      {
       "output_type": "stream",
       "stream": "stdout",
       "text": " 12 with score 54 and motif GAGCCGTCATCAATA\nIter:"
      },
      {
       "output_type": "stream",
       "stream": "stdout",
       "text": " 13 with score 50 and motif GACACACCATGGCAG\nIter:"
      },
      {
       "output_type": "stream",
       "stream": "stdout",
       "text": " 14 with score 51 and motif TTGCCTGATATGTGG\nIter:"
      },
      {
       "output_type": "stream",
       "stream": "stdout",
       "text": " 15 with score 53 and motif CGCGACGACAGGGCT\nIter:"
      },
      {
       "output_type": "stream",
       "stream": "stdout",
       "text": " 16 with score 55 and motif GGACCAGACGACAAC\nIter:"
      },
      {
       "output_type": "stream",
       "stream": "stdout",
       "text": " 17 with score 55 and motif GCTAGATGCAGAAGG\nIter:"
      },
      {
       "output_type": "stream",
       "stream": "stdout",
       "text": " 18 with score 30 and motif TGACACATTATGTCA\nIter:"
      },
      {
       "output_type": "stream",
       "stream": "stdout",
       "text": " 19 with score 52 and motif CTGCGTCCTCACTAG\nIter:"
      },
      {
       "output_type": "stream",
       "stream": "stdout",
       "text": " 20 with score 34 and motif GACACATAATGTCTT\nIter:"
      },
      {
       "output_type": "stream",
       "stream": "stdout",
       "text": " 21 with score 54 and motif AGCGCCTCTGGAACA\nIter:"
      },
      {
       "output_type": "stream",
       "stream": "stdout",
       "text": " 22 with score 52 and motif TTGCCTGATATATGT\nIter:"
      },
      {
       "output_type": "stream",
       "stream": "stdout",
       "text": " 23 with score 25 and motif GTGACACATTATGTC\nIter:"
      },
      {
       "output_type": "stream",
       "stream": "stdout",
       "text": " 24 with score 55 and motif GCGGCCCTCGTACCG\nIter:"
      },
      {
       "output_type": "stream",
       "stream": "stdout",
       "text": " 25 with score 57 and motif ATAATGTCCCGCGGG\nIter:"
      },
      {
       "output_type": "stream",
       "stream": "stdout",
       "text": " 26 with score 43 and motif GACACATTATGTCAA\nIter:"
      },
      {
       "output_type": "stream",
       "stream": "stdout",
       "text": " 27 with score 58 and motif TGCGCTCCCCTGGCC\nIter:"
      },
      {
       "output_type": "stream",
       "stream": "stdout",
       "text": " 28 with score 56 and motif CGTCCAGCATGATAA\nIter:"
      },
      {
       "output_type": "stream",
       "stream": "stdout",
       "text": " 29 with score 54 and motif AGATAAGCTATAACA\nIter:"
      },
      {
       "output_type": "stream",
       "stream": "stdout",
       "text": " 30 with score 54 and motif AGTACTGGCTTGGCA\nIter:"
      },
      {
       "output_type": "stream",
       "stream": "stdout",
       "text": " 31 with score 54 and motif ATCATCTCTGACACG\nIter:"
      },
      {
       "output_type": "stream",
       "stream": "stdout",
       "text": " 32 with score 57 and motif TCCCCGCGCTAACCT\nIter:"
      },
      {
       "output_type": "stream",
       "stream": "stdout",
       "text": " 33 with score 59 and motif GGGATAACTGCCCCA\nIter:"
      },
      {
       "output_type": "stream",
       "stream": "stdout",
       "text": " 34 with score 53 and motif GTAGATGGGCTCTGG\nIter:"
      },
      {
       "output_type": "stream",
       "stream": "stdout",
       "text": " 35 with score 50 and motif TTTTTCCCTAACGCG\nIter:"
      },
      {
       "output_type": "stream",
       "stream": "stdout",
       "text": " 36 with score 56 and motif CCAATTGCCCGTTAT\nIter:"
      },
      {
       "output_type": "stream",
       "stream": "stdout",
       "text": " 37 with score 50 and motif GGCAGTTCAACTCTA\nIter:"
      },
      {
       "output_type": "stream",
       "stream": "stdout",
       "text": " 38 with score 55 and motif ACTACCGCCATCGTG\nIter:"
      },
      {
       "output_type": "stream",
       "stream": "stdout",
       "text": " 39 with score 51 and motif AAGTACGATGCTAAA\nIter:"
      },
      {
       "output_type": "stream",
       "stream": "stdout",
       "text": " 40 with score 50 and motif ACACATAATGTCAGA\nIter:"
      },
      {
       "output_type": "stream",
       "stream": "stdout",
       "text": " 41 with score 30 and motif TGACACATTATGTCA\nIter:"
      },
      {
       "output_type": "stream",
       "stream": "stdout",
       "text": " 42 with score 53 and motif TTCCACACGAGTGCC\nIter:"
      },
      {
       "output_type": "stream",
       "stream": "stdout",
       "text": " 43 with score 25 and motif GTGACACATTATGTC\nIter:"
      },
      {
       "output_type": "stream",
       "stream": "stdout",
       "text": " 44 with score 34 and motif GACACATTATGTCTT\nIter:"
      },
      {
       "output_type": "stream",
       "stream": "stdout",
       "text": " 45 with score 55 and motif TGCAGACTGGTGAGG\nIter:"
      },
      {
       "output_type": "stream",
       "stream": "stdout",
       "text": " 46 with score 25 and motif GTGACACATTATGTC\nIter:"
      },
      {
       "output_type": "stream",
       "stream": "stdout",
       "text": " 47 with score 54 and motif AACTCTACTAAAGGG\nIter:"
      },
      {
       "output_type": "stream",
       "stream": "stdout",
       "text": " 48 with score 49 and motif ATTACCCACCGCCTG\nIter:"
      },
      {
       "output_type": "stream",
       "stream": "stdout",
       "text": " 49 with score 53 and motif CGTGCTCTTCCCATT\nGibbsovo vzorkovanie zbehlo v case 182.360761522\n"
      }
     ],
     "prompt_number": 22
    },
    {
     "cell_type": "code",
     "collapsed": false,
     "input": "# Nacitanie sekvencii z fasta suboru\nsequences1 = readFasta(seq1file,verbose=0);\n# ziskanie hodnot\nvalues = sequences1.values()\n# a klucov, ktore nevyuzijeme\nkeys = sequences1.keys()\n\n# Vytvorenie pola do ktoreho budeme ukladat 10 najlepsich behov\nbest=[['',150,[]] for i in range(10)]\n\ntimeArray=[]\n\n# 50 krat opakujeme gibbsovo samplovanie s \n\nfor j in range(50) :\n    # Nastavime casovac pre kazdu iteraciu\n    start=time.clock()\n    # Samplovanie pustame s dlzkou motivu 15.Choice 2 znamena ze algoritmus bezi dokym nebudu motivy v poli rovnake po kazdej iteracii\n    motif,score,array = gibbsSampling(values,15,4,200,choice=2)\n    # Vypisanie aktualnej iteracie opakovania a ziskaneho skore\n    print 'Iter:',j,'with score',score,'and motif',motif\n    # Nasledne priradim tuto trojicu do pola best na index kam patri. Ked pole pretecie tak vymazem posledny prvok (ten najvacsi)\n    for k in range(10) :\n        if score < best[k][1] :\n            best.insert(k,[motif,score,array])\n            del best[-1]\n            break\n    timeArray.append(time.clock()-start)        \n\nprint 'Gibbsovo vzorkovanie zbehlo v case',sum(timeArray)           \n",
     "language": "python",
     "metadata": {},
     "outputs": [
      {
       "output_type": "stream",
       "stream": "stdout",
       "text": "Done with verbose= 0\nIter:"
      },
      {
       "output_type": "stream",
       "stream": "stdout",
       "text": " 0 with score 60 and motif CTTGAAAACCGTGAC\nIter:"
      },
      {
       "output_type": "stream",
       "stream": "stdout",
       "text": " 1 with score 65 and motif CAACGCGAGGGCGCT\nIter:"
      },
      {
       "output_type": "stream",
       "stream": "stdout",
       "text": " 2 with score 66 and motif CCTCCCGACACATGA\nIter:"
      },
      {
       "output_type": "stream",
       "stream": "stdout",
       "text": " 3 with score 66 and motif TCGGGGGAACCTATT\nIter:"
      },
      {
       "output_type": "stream",
       "stream": "stdout",
       "text": " 4 with score 75 and motif ACCGAAAGGCATTTA\nIter:"
      },
      {
       "output_type": "stream",
       "stream": "stdout",
       "text": " 5 with score 66 and motif GTCTTTGCACCCCGG\nIter:"
      },
      {
       "output_type": "stream",
       "stream": "stdout",
       "text": " 6 with score 72 and motif AAGGTGCGATAATGA\nIter:"
      },
      {
       "output_type": "stream",
       "stream": "stdout",
       "text": " 7 with score 64 and motif AAACAGTCGTTCAAT\nIter:"
      },
      {
       "output_type": "stream",
       "stream": "stdout",
       "text": " 8 with score 66 and motif ACGCCATTACCAGGA\nIter:"
      },
      {
       "output_type": "stream",
       "stream": "stdout",
       "text": " 9 with score 77 and motif CAAAGAAAATTAAGA\nIter:"
      },
      {
       "output_type": "stream",
       "stream": "stdout",
       "text": " 10 with score 73 and motif CTCTAACCGAGTCGC\nIter:"
      },
      {
       "output_type": "stream",
       "stream": "stdout",
       "text": " 11 with score 62 and motif CACCACCACACGAGT\nIter:"
      },
      {
       "output_type": "stream",
       "stream": "stdout",
       "text": " 12 with score 64 and motif CCGCCTACCCTACGC\nIter:"
      },
      {
       "output_type": "stream",
       "stream": "stdout",
       "text": " 13 with score 74 and motif CAAACCGAAGTAGCG\nIter:"
      },
      {
       "output_type": "stream",
       "stream": "stdout",
       "text": " 14 with score 68 and motif GGAGGATCCGGCCCT\nIter:"
      },
      {
       "output_type": "stream",
       "stream": "stdout",
       "text": " 15 with score 66 and motif AGGCCATCCGTTGTA\nIter:"
      },
      {
       "output_type": "stream",
       "stream": "stdout",
       "text": " 16 with score 58 and motif TCATCTCTTTGGTCT\nIter:"
      },
      {
       "output_type": "stream",
       "stream": "stdout",
       "text": " 17 with score 64 and motif CGGTAGTAGAATCTT\nIter:"
      },
      {
       "output_type": "stream",
       "stream": "stdout",
       "text": " 18 with score 70 and motif AATTTTGACAGATGA\nIter:"
      },
      {
       "output_type": "stream",
       "stream": "stdout",
       "text": " 19 with score 66 and motif TCGACAATAATGCCT\nIter:"
      },
      {
       "output_type": "stream",
       "stream": "stdout",
       "text": " 20 with score 72 and motif ATCGGCGCGATCGAG\nIter:"
      },
      {
       "output_type": "stream",
       "stream": "stdout",
       "text": " 21 with score 71 and motif TAAAAACCCCTGTAG\nIter:"
      },
      {
       "output_type": "stream",
       "stream": "stdout",
       "text": " 22 with score 75 and motif TGGATCCCACATCAA\nIter:"
      },
      {
       "output_type": "stream",
       "stream": "stdout",
       "text": " 23 with score 66 and motif CTGACACGTGCTCTT\nIter:"
      },
      {
       "output_type": "stream",
       "stream": "stdout",
       "text": " 24 with score 71 and motif AATAGCCTCAGGAAA\nIter:"
      },
      {
       "output_type": "stream",
       "stream": "stdout",
       "text": " 25 with score 57 and motif TTTTCTAACGCTCGT\nIter:"
      },
      {
       "output_type": "stream",
       "stream": "stdout",
       "text": " 26 with score 63 and motif GCGCCGCGCTCAGAC\nIter:"
      },
      {
       "output_type": "stream",
       "stream": "stdout",
       "text": " 27 with score 67 and motif AGGTATGACCCCCCG\nIter:"
      },
      {
       "output_type": "stream",
       "stream": "stdout",
       "text": " 28 with score 67 and motif ACGGTGCTGTCACTC\nIter:"
      },
      {
       "output_type": "stream",
       "stream": "stdout",
       "text": " 29 with score 67 and motif TGGCGGCGAGGAGGG\nIter:"
      },
      {
       "output_type": "stream",
       "stream": "stdout",
       "text": " 30 with score 63 and motif CATCCGCGCCACGGT\nIter:"
      },
      {
       "output_type": "stream",
       "stream": "stdout",
       "text": " 31 with score 67 and motif GTGATGTAAACCCTA\nIter:"
      },
      {
       "output_type": "stream",
       "stream": "stdout",
       "text": " 32 with score 58 and motif CAGATTGATGCAGAA\nIter:"
      },
      {
       "output_type": "stream",
       "stream": "stdout",
       "text": " 33 with score 71 and motif ATAAAACCAAGGCGG\nIter:"
      },
      {
       "output_type": "stream",
       "stream": "stdout",
       "text": " 34 with score 67 and motif ATTGGGTGCTCGAAT\nIter:"
      },
      {
       "output_type": "stream",
       "stream": "stdout",
       "text": " 35 with score 52 and motif GGGCCTCGCGGCAGG\nIter:"
      },
      {
       "output_type": "stream",
       "stream": "stdout",
       "text": " 36 with score 71 and motif CAACTAACGAGACGG\nIter:"
      },
      {
       "output_type": "stream",
       "stream": "stdout",
       "text": " 37 with score 75 and motif GTCTTCATGCAGAAT\nIter:"
      },
      {
       "output_type": "stream",
       "stream": "stdout",
       "text": " 38 with score 60 and motif AGGCATGTGCAGCCG\nIter:"
      },
      {
       "output_type": "stream",
       "stream": "stdout",
       "text": " 39 with score 67 and motif TCAGGACGTTCTAGA\nIter:"
      },
      {
       "output_type": "stream",
       "stream": "stdout",
       "text": " 40 with score 68 and motif AACCACTCTTTGCTA\nIter:"
      },
      {
       "output_type": "stream",
       "stream": "stdout",
       "text": " 41 with score 66 and motif GTGTCGGCGGACGGA\nIter:"
      },
      {
       "output_type": "stream",
       "stream": "stdout",
       "text": " 42 with score 76 and motif CAGGTTCCCTGTGTA\nIter:"
      },
      {
       "output_type": "stream",
       "stream": "stdout",
       "text": " 43 with score 64 and motif TACGCTTAACCAGAA\nIter:"
      },
      {
       "output_type": "stream",
       "stream": "stdout",
       "text": " 44 with score 72 and motif CTCTAGGAAAAGATC\nIter:"
      },
      {
       "output_type": "stream",
       "stream": "stdout",
       "text": " 45 with score 65 and motif AAGACCCGTAGTCAT\nIter:"
      },
      {
       "output_type": "stream",
       "stream": "stdout",
       "text": " 46 with score 69 and motif ACTAGAACAGCCCTC\nIter:"
      },
      {
       "output_type": "stream",
       "stream": "stdout",
       "text": " 47 with score 64 and motif CCTCACGAACGGTAC\nIter:"
      },
      {
       "output_type": "stream",
       "stream": "stdout",
       "text": " 48 with score 67 and motif GAGCGGTTCAACAGC\nIter:"
      },
      {
       "output_type": "stream",
       "stream": "stdout",
       "text": " 49 with score 73 and motif CGGGACCACCGCAAT\n"
      }
     ],
     "prompt_number": 34
    },
    {
     "cell_type": "heading",
     "level": 3,
     "metadata": {},
     "source": "Vysledky na MatSam"
    },
    {
     "cell_type": "code",
     "collapsed": false,
     "input": "# Tento skript vyberie kazdu trojicu v ktorej su ulozene najlepsie najdene motify.\n# Z kazdej trojice vyberie pole (na druhom mieste) v ktorych su kusky sekvencii a \n# pre kazde zistime hamming vzdialenost od consensus motifu. Ked su vzdialenosti od consensus motifu\n# mensie alebo rovne hodnote mut tak je to spravny motif\n\nmut = 4\n\nfor i in range(len(best)) :\n    w=[hamDist(best[i][0],seq) for seq in best[i][2]]    \n    if all([x <= mut for x in w]) :\n        print 'Optimal',w,'Consensus motif',best[i][0]\n    else :\n        print w,'Consensus motif',best[i][0]",
     "language": "python",
     "metadata": {},
     "outputs": [
      {
       "output_type": "stream",
       "stream": "stdout",
       "text": "Optimal [3, 4, 3, 2, 2, 4, 0, 4, 3, 0] Consensus motif GTGACACATTATGTC\nOptimal [3, 4, 3, 2, 2, 4, 0, 4, 3, 0] Consensus motif GTGACACATTATGTC\nOptimal [3, 4, 3, 2, 2, 4, 0, 4, 3, 0] Consensus motif GTGACACATTATGTC\n[3, 5, 2, 2, 2, 5, 1, 5, 4, 1] Consensus motif TGACACATTATGTCA\n[3, 5, 2, 2, 2, 5, 1, 5, 4, 1] Consensus motif TGACACATTATGTCA\n[3, 4, 5, 3, 1, 6, 1, 4, 4, 3] Consensus motif GACACATAATGTCTT\n[4, 5, 4, 2, 2, 6, 0, 5, 4, 2] Consensus motif GACACATTATGTCTT\n[2, 9, 3, 2, 2, 5, 2, 9, 7, 2] Consensus motif GACACATTATGTCAA\n[4, 4, 5, 4, 4, 5, 6, 8, 4, 5] Consensus motif ATTACCCACCGCCTG\n[6, 4, 4, 8, 6, 7, 4, 2, 5, 4] Consensus motif AGTTATATATTATGA\n"
      }
     ],
     "prompt_number": 23
    },
    {
     "cell_type": "markdown",
     "metadata": {},
     "source": "Vy\u0161\u0161ie je vidie\u0165 10 najlep\u0161\u00edch kandid\u00e1tov. Pri kazdom behu vyzera toto pole inak. Gibbsovo vzorkovanie nemusi vzdy nast akurat optimalne riesenie. Napr. teraz ma optimalne skore=25, niekedy akurat tento pripad nemusi najst, alebo v niektorych pripadoch moze najst tiez riesenie so skore=25, ktore by malo vyhovovat, no niektora sekvencia bude mat viac nez 4 mutacie.\n\nV tomto pripade je prv\u00fd,druhy aj treti ten optim\u00e1lny  a ako je vidie\u0165 vzdialenos\u0165 najdeneho motivu [GTGACACATTATGTC] od najdenych sekvencii je [3, 4, 3, 2, 2, 4, 0, 4, 3, 0] => najviac 4 mut\u00e1cie. V \u010fal\u0161om pr\u00edpade je medzi jedn\u00fdm motivom a sekvenciou po\u010det mut\u00e1cii rovn\u00fd 5.\n\nPri 500 behoch Gibbsovho vzorkovania sa nam matica s najlep\u0161\u00edmi kandidatmi vytriedila iba k jednemu consensus motivu, ktor\u00fd ma vzdialenosti od n\u00e1jden\u00fdch 10 mot\u00edvov rovn\u00e9 [3, 4, 3, 2, 2, 4, 0, 4, 3, 0], co je rovnake vlastne riesenie ake sme nasli pri mensich poctoch opakovani"
    },
    {
     "cell_type": "code",
     "collapsed": false,
     "input": "best",
     "language": "python",
     "metadata": {},
     "outputs": [
      {
       "metadata": {},
       "output_type": "pyout",
       "prompt_number": 37,
       "text": "[['GTGACACATTATGTC',\n  25,\n  array([['G', 'A', 'G', 'A', 'C', 'T', 'C', 'A', 'T', 'A', 'A', 'T', 'G',\n        'T', 'C'],\n       ['G', 'T', 'T', 'A', 'G', 'A', 'C', 'A', 'A', 'T', 'A', 'T', 'G',\n        'T', 'T'],\n       ['C', 'T', 'G', 'A', 'A', 'A', 'C', 'A', 'C', 'T', 'A', 'T', 'G',\n        'T', 'C'],\n       ['C', 'T', 'G', 'A', 'C', 'A', 'C', 'G', 'T', 'T', 'A', 'T', 'G',\n        'T', 'C'],\n       ['G', 'G', 'G', 'A', 'C', 'A', 'C', 'A', 'T', 'A', 'A', 'T', 'G',\n        'T', 'C'],\n       ['G', 'T', 'G', 'A', 'G', 'A', 'G', 'A', 'C', 'G', 'A', 'T', 'G',\n        'T', 'C'],\n       ['G', 'T', 'G', 'A', 'C', 'A', 'C', 'A', 'T', 'T', 'A', 'T', 'G',\n        'T', 'C'],\n       ['G', 'T', 'G', 'A', 'T', 'A', 'T', 'G', 'T', 'T', 'A', 'T', 'G',\n        'A', 'C'],\n       ['G', 'T', 'G', 'A', 'C', 'A', 'C', 'A', 'T', 'G', 'G', 'G', 'G',\n        'T', 'C'],\n       ['G', 'T', 'G', 'A', 'C', 'A', 'C', 'A', 'T', 'T', 'A', 'T', 'G',\n        'T', 'C']], \n      dtype='|S1')],\n ['AGTGACACATTATGT',\n  30,\n  array([['G', 'G', 'A', 'G', 'A', 'C', 'T', 'C', 'A', 'T', 'A', 'A', 'T',\n        'G', 'T'],\n       ['A', 'G', 'T', 'T', 'A', 'G', 'A', 'C', 'A', 'A', 'T', 'A', 'T',\n        'G', 'T'],\n       ['T', 'C', 'T', 'G', 'A', 'A', 'A', 'C', 'A', 'C', 'T', 'A', 'T',\n        'G', 'T'],\n       ['T', 'C', 'T', 'G', 'A', 'C', 'A', 'C', 'G', 'T', 'T', 'A', 'T',\n        'G', 'T'],\n       ['C', 'G', 'G', 'G', 'A', 'C', 'A', 'C', 'A', 'T', 'A', 'A', 'T',\n        'G', 'T'],\n       ['G', 'G', 'T', 'G', 'A', 'G', 'A', 'G', 'A', 'C', 'G', 'A', 'T',\n        'G', 'T'],\n       ['A', 'G', 'T', 'G', 'A', 'C', 'A', 'C', 'A', 'T', 'T', 'A', 'T',\n        'G', 'T'],\n       ['A', 'G', 'T', 'G', 'A', 'T', 'A', 'T', 'G', 'T', 'T', 'A', 'T',\n        'G', 'A'],\n       ['G', 'G', 'T', 'G', 'A', 'C', 'A', 'C', 'A', 'T', 'G', 'G', 'G',\n        'G', 'T'],\n       ['A', 'G', 'T', 'G', 'A', 'C', 'A', 'C', 'A', 'T', 'T', 'A', 'T',\n        'G', 'T']], \n      dtype='|S1')],\n ['TGACACATTATGTCA',\n  32,\n  array([['A', 'G', 'A', 'C', 'T', 'C', 'A', 'T', 'A', 'A', 'T', 'G', 'T',\n        'C', 'A'],\n       ['T', 'C', 'G', 'C', 'A', 'C', 'A', 'G', 'T', 'C', 'T', 'G', 'G',\n        'C', 'A'],\n       ['T', 'G', 'A', 'A', 'A', 'C', 'A', 'C', 'T', 'A', 'T', 'G', 'T',\n        'C', 'A'],\n       ['T', 'G', 'A', 'C', 'A', 'C', 'G', 'T', 'T', 'A', 'T', 'G', 'T',\n        'C', 'T'],\n       ['G', 'G', 'A', 'C', 'A', 'C', 'A', 'T', 'A', 'A', 'T', 'G', 'T',\n        'C', 'A'],\n       ['T', 'G', 'A', 'G', 'A', 'G', 'A', 'C', 'G', 'A', 'T', 'G', 'T',\n        'C', 'G'],\n       ['T', 'G', 'A', 'C', 'A', 'C', 'A', 'T', 'T', 'A', 'T', 'G', 'T',\n        'C', 'T'],\n       ['A', 'G', 'A', 'C', 'A', 'T', 'T', 'C', 'A', 'A', 'T', 'C', 'T',\n        'C', 'T'],\n       ['T', 'G', 'A', 'C', 'A', 'C', 'A', 'T', 'G', 'G', 'G', 'G', 'T',\n        'C', 'T'],\n       ['T', 'G', 'A', 'C', 'A', 'C', 'A', 'T', 'T', 'A', 'T', 'G', 'T',\n        'C', 'C']], \n      dtype='|S1')],\n ['GTGACACATTATGTC',\n  35,\n  array([['G', 'A', 'G', 'A', 'C', 'T', 'C', 'A', 'T', 'A', 'A', 'T', 'G',\n        'T', 'C'],\n       ['G', 'T', 'T', 'A', 'G', 'A', 'C', 'A', 'A', 'T', 'A', 'T', 'G',\n        'T', 'T'],\n       ['C', 'T', 'G', 'A', 'A', 'A', 'C', 'A', 'C', 'T', 'A', 'T', 'G',\n        'T', 'C'],\n       ['C', 'T', 'G', 'A', 'C', 'A', 'C', 'G', 'T', 'T', 'A', 'T', 'G',\n        'T', 'C'],\n       ['C', 'T', 'C', 'T', 'A', 'A', 'G', 'A', 'A', 'A', 'A', 'G', 'G',\n        'T', 'C'],\n       ['A', 'T', 'G', 'C', 'C', 'A', 'A', 'A', 'T', 'G', 'A', 'G', 'G',\n        'T', 'G'],\n       ['G', 'T', 'G', 'A', 'C', 'A', 'C', 'A', 'T', 'T', 'A', 'T', 'G',\n        'T', 'C'],\n       ['A', 'T', 'C', 'A', 'C', 'T', 'C', 'A', 'A', 'A', 'A', 'C', 'G',\n        'T', 'C'],\n       ['G', 'T', 'G', 'A', 'C', 'A', 'C', 'A', 'T', 'G', 'G', 'G', 'G',\n        'T', 'C'],\n       ['G', 'T', 'G', 'A', 'C', 'A', 'C', 'A', 'T', 'T', 'A', 'T', 'G',\n        'T', 'C']], \n      dtype='|S1')],\n ['GACACATAATGTCAG',\n  39,\n  array([['G', 'A', 'C', 'T', 'C', 'A', 'T', 'A', 'A', 'T', 'G', 'T', 'C',\n        'A', 'A'],\n       ['T', 'A', 'T', 'T', 'C', 'A', 'T', 'A', 'T', 'T', 'T', 'T', 'G',\n        'T', 'A'],\n       ['G', 'A', 'A', 'A', 'C', 'A', 'C', 'T', 'A', 'T', 'G', 'T', 'C',\n        'A', 'G'],\n       ['T', 'C', 'A', 'A', 'C', 'A', 'T', 'T', 'A', 'G', 'G', 'T', 'G',\n        'A', 'G'],\n       ['G', 'A', 'C', 'A', 'C', 'A', 'T', 'A', 'A', 'T', 'G', 'T', 'C',\n        'A', 'T'],\n       ['G', 'C', 'C', 'A', 'A', 'A', 'T', 'G', 'A', 'G', 'G', 'T', 'G',\n        'A', 'G'],\n       ['G', 'A', 'C', 'A', 'C', 'A', 'T', 'T', 'A', 'T', 'G', 'T', 'C',\n        'T', 'T'],\n       ['C', 'A', 'C', 'T', 'C', 'A', 'A', 'A', 'A', 'C', 'G', 'T', 'C',\n        'A', 'G'],\n       ['G', 'A', 'C', 'A', 'C', 'A', 'T', 'G', 'G', 'G', 'G', 'T', 'C',\n        'T', 'C'],\n       ['G', 'A', 'C', 'A', 'C', 'A', 'T', 'T', 'A', 'T', 'G', 'T', 'C',\n        'C', 'G']], \n      dtype='|S1')],\n ['GGACGCTAGGCATAT',\n  48,\n  array([['G', 'G', 'C', 'C', 'G', 'C', 'T', 'C', 'T', 'G', 'C', 'C', 'G',\n        'A', 'T'],\n       ['G', 'G', 'C', 'C', 'G', 'G', 'T', 'C', 'T', 'C', 'C', 'A', 'T',\n        'G', 'T'],\n       ['G', 'G', 'C', 'C', 'A', 'C', 'T', 'G', 'G', 'G', 'C', 'C', 'T',\n        'A', 'T'],\n       ['C', 'A', 'A', 'C', 'A', 'C', 'T', 'A', 'G', 'G', 'A', 'A', 'T',\n        'A', 'T'],\n       ['T', 'A', 'A', 'C', 'C', 'C', 'C', 'G', 'G', 'G', 'C', 'A', 'G',\n        'A', 'T'],\n       ['C', 'G', 'C', 'G', 'G', 'A', 'T', 'A', 'G', 'G', 'C', 'A', 'T',\n        'G', 'T'],\n       ['G', 'G', 'A', 'C', 'T', 'A', 'C', 'A', 'G', 'C', 'C', 'A', 'T',\n        'A', 'T'],\n       ['T', 'G', 'A', 'C', 'G', 'T', 'T', 'A', 'G', 'C', 'T', 'A', 'T',\n        'C', 'T'],\n       ['G', 'G', 'A', 'C', 'G', 'T', 'T', 'C', 'T', 'G', 'T', 'A', 'T',\n        'T', 'T'],\n       ['G', 'T', 'A', 'G', 'C', 'C', 'T', 'A', 'G', 'C', 'C', 'A', 'T',\n        'A', 'T']], \n      dtype='|S1')],\n ['CGTACCGCAATCCTA',\n  51,\n  array([['A', 'G', 'G', 'G', 'C', 'C', 'G', 'C', 'A', 'A', 'T', 'C', 'G',\n        'T', 'A'],\n       ['C', 'A', 'T', 'T', 'C', 'C', 'A', 'C', 'T', 'A', 'T', 'A', 'A',\n        'T', 'T'],\n       ['C', 'G', 'C', 'A', 'C', 'A', 'C', 'C', 'A', 'G', 'G', 'C', 'C',\n        'T', 'T'],\n       ['C', 'G', 'T', 'A', 'C', 'C', 'A', 'C', 'C', 'A', 'T', 'C', 'C',\n        'T', 'A'],\n       ['C', 'G', 'T', 'A', 'C', 'A', 'G', 'C', 'T', 'A', 'T', 'C', 'C',\n        'T', 'A'],\n       ['G', 'T', 'T', 'A', 'C', 'C', 'A', 'C', 'C', 'A', 'C', 'C', 'T',\n        'T', 'C'],\n       ['C', 'G', 'G', 'T', 'C', 'C', 'G', 'C', 'A', 'A', 'T', 'C', 'T',\n        'T', 'T'],\n       ['C', 'G', 'T', 'G', 'A', 'C', 'G', 'T', 'T', 'A', 'G', 'C', 'T',\n        'A', 'T'],\n       ['C', 'G', 'T', 'A', 'A', 'T', 'A', 'C', 'C', 'G', 'A', 'C', 'G',\n        'T', 'A'],\n       ['C', 'A', 'G', 'A', 'C', 'C', 'G', 'T', 'A', 'A', 'T', 'C', 'G',\n        'T', 'A']], \n      dtype='|S1')],\n ['AGTACGGTCCACAAT',\n  52,\n  array([['G', 'C', 'T', 'C', 'A', 'G', 'G', 'G', 'C', 'C', 'G', 'C', 'A',\n        'A', 'T'],\n       ['A', 'G', 'T', 'G', 'C', 'G', 'G', 'T', 'C', 'T', 'T', 'C', 'A',\n        'A', 'T'],\n       ['A', 'G', 'T', 'A', 'C', 'G', 'G', 'T', 'C', 'C', 'A', 'A', 'A',\n        'G', 'T'],\n       ['A', 'G', 'T', 'G', 'C', 'G', 'T', 'T', 'C', 'A', 'A', 'C', 'T',\n        'A', 'C'],\n       ['A', 'G', 'C', 'G', 'G', 'G', 'C', 'T', 'T', 'T', 'A', 'C', 'C',\n        'A', 'T'],\n       ['C', 'G', 'T', 'G', 'G', 'T', 'C', 'T', 'T', 'C', 'A', 'C', 'A',\n        'A', 'C'],\n       ['G', 'A', 'A', 'C', 'C', 'G', 'G', 'T', 'C', 'C', 'G', 'C', 'A',\n        'A', 'T'],\n       ['A', 'G', 'A', 'A', 'T', 'G', 'A', 'T', 'C', 'C', 'C', 'C', 'G',\n        'A', 'T'],\n       ['A', 'G', 'G', 'A', 'G', 'A', 'T', 'T', 'T', 'C', 'C', 'C', 'A',\n        'A', 'C'],\n       ['C', 'G', 'T', 'A', 'G', 'G', 'G', 'T', 'C', 'C', 'T', 'C', 'G',\n        'G', 'T']], \n      dtype='|S1')],\n ['CCGGCAATGGCCGGA',\n  52,\n  array([['C', 'A', 'A', 'G', 'A', 'A', 'G', 'T', 'G', 'A', 'C', 'T', 'G',\n        'G', 'A'],\n       ['C', 'C', 'C', 'G', 'C', 'C', 'C', 'T', 'A', 'G', 'C', 'C', 'T',\n        'G', 'G'],\n       ['C', 'C', 'C', 'G', 'T', 'A', 'A', 'T', 'G', 'C', 'C', 'C', 'G',\n        'C', 'A'],\n       ['A', 'T', 'G', 'G', 'C', 'A', 'A', 'T', 'A', 'G', 'C', 'C', 'T',\n        'C', 'A'],\n       ['C', 'C', 'G', 'C', 'C', 'A', 'C', 'A', 'G', 'G', 'C', 'G', 'G',\n        'G', 'A'],\n       ['C', 'A', 'G', 'A', 'C', 'A', 'T', 'A', 'G', 'G', 'C', 'C', 'G',\n        'G', 'G'],\n       ['C', 'C', 'T', 'G', 'C', 'A', 'G', 'T', 'G', 'G', 'C', 'C', 'T',\n        'G', 'G'],\n       ['C', 'C', 'G', 'G', 'C', 'C', 'C', 'A', 'C', 'C', 'C', 'C', 'G',\n        'T', 'A'],\n       ['C', 'G', 'G', 'G', 'C', 'A', 'A', 'T', 'G', 'T', 'A', 'C', 'G',\n        'C', 'C'],\n       ['C', 'G', 'G', 'C', 'A', 'G', 'A', 'G', 'G', 'G', 'T', 'C', 'G',\n        'C', 'A']], \n      dtype='|S1')],\n ['TTCGAAGTGGGGACA',\n  52,\n  array([['A', 'T', 'C', 'G', 'T', 'A', 'C', 'T', 'G', 'G', 'G', 'G', 'A',\n        'T', 'A'],\n       ['G', 'A', 'C', 'G', 'A', 'A', 'G', 'T', 'G', 'C', 'G', 'G', 'T',\n        'C', 'T'],\n       ['T', 'C', 'C', 'A', 'A', 'A', 'G', 'T', 'A', 'G', 'G', 'G', 'G',\n        'T', 'C'],\n       ['T', 'C', 'G', 'G', 'C', 'A', 'G', 'T', 'G', 'C', 'G', 'T', 'T',\n        'C', 'A'],\n       ['T', 'C', 'G', 'G', 'A', 'A', 'G', 'T', 'G', 'C', 'G', 'T', 'G',\n        'C', 'A'],\n       ['C', 'T', 'C', 'G', 'C', 'A', 'G', 'T', 'A', 'G', 'G', 'A', 'A',\n        'C', 'A'],\n       ['T', 'T', 'C', 'C', 'A', 'T', 'T', 'G', 'G', 'G', 'C', 'T', 'A',\n        'C', 'A'],\n       ['T', 'T', 'G', 'G', 'C', 'A', 'T', 'T', 'G', 'G', 'C', 'G', 'A',\n        'C', 'T'],\n       ['A', 'T', 'C', 'G', 'A', 'A', 'G', 'A', 'T', 'G', 'G', 'G', 'A',\n        'A', 'T'],\n       ['C', 'T', 'C', 'G', 'A', 'G', 'T', 'G', 'G', 'T', 'G', 'G', 'A',\n        'C', 'C']], \n      dtype='|S1')]]"
      }
     ],
     "prompt_number": 37
    },
    {
     "cell_type": "markdown",
     "metadata": {},
     "source": "Vypis obsahu najlep\u0161\u00edch 10 n\u00e1jden\u00fdch kandit\u00e1tov. Ka\u017ed\u00fd kandid\u00e1t je trojprvkov\u00e9 pole, kde prvy prvok je consensus motiv => najbli\u017e\u0161\u00ed motiv k sekvenci\u00e1m ulo\u017een\u00fdch v tre\u0165om prvku. V druhom prvku je sk\u00f3re => s\u010d\u00edtan\u00e9 hammingovsk\u00e9 vzdialenosti consensus mot\u00edvu od sekvenci\u00ed. "
    },
    {
     "cell_type": "markdown",
     "metadata": {},
     "source": "\\begin{align}\nVysledneSkore &= 25 \\\\\nVyslednyMotif &= \\begin{array}{ccccccccccccccc} G & T & G & A & C & A & C & A & T & T & A & T & G & T & C \\end{array} \\\\\nVysledneSekvencie &= \\begin{pmatrix}\nG & A & G & A & C & T & C & A & T & A & A & T & G & T & C \\\\\nG & T & T & A & G & A & C & A & A & T & A & T & G & T & T \\\\\nC & T & G & A & A & A & C & A & C & T & A & T & G & T & C \\\\\nC & T & G & A & C & A & C & G & T & T & A & T & G & T & C \\\\\nG & G & G & A & C & A & C & A & T & A & A & T & G & T & C \\\\\nG & T & G & A & G & A & G & A & C & G & A & T & G & T & C \\\\\nG & T & G & A & C & A & C & A & T & T & A & T & G & T & C \\\\\nG & T & G & A & T & A & T & G & T & T & A & T & G & A & C \\\\ \nG & T & G & A & C & A & C & A & T & G & G & G & G & T & C \\\\\nG & T & G & A & C & A & C & A & T & T & A & T & G & T & C \\\\\n\\end{pmatrix}\n\\end{align}"
    },
    {
     "cell_type": "code",
     "collapsed": false,
     "input": "s0=''.join(['G', 'A', 'G', 'A', 'C', 'T', 'C', 'A', 'T', 'A', 'A', 'T', 'G',\n        'T', 'C'])\ns1=''.join(['G', 'T', 'T', 'A', 'G', 'A', 'C', 'A', 'A', 'T', 'A', 'T', 'G',\n        'T', 'T'])\ns2=''.join(['C', 'T', 'G', 'A', 'A', 'A', 'C', 'A', 'C', 'T', 'A', 'T', 'G',\n        'T', 'C'])\ns3=''.join(['C', 'T', 'G', 'A', 'C', 'A', 'C', 'G', 'T', 'T', 'A', 'T', 'G',\n        'T', 'C'])\ns4=''.join(['G', 'G', 'G', 'A', 'C', 'A', 'C', 'A', 'T', 'A', 'A', 'T', 'G',\n        'T', 'C'])\ns5=''.join(['G', 'T', 'G', 'A', 'G', 'A', 'G', 'A', 'C', 'G', 'A', 'T', 'G',\n        'T', 'C'])\ns6=''.join(['G', 'T', 'G', 'A', 'C', 'A', 'C', 'A', 'T', 'T', 'A', 'T', 'G',\n        'T', 'C'])\ns7=''.join(['G', 'T', 'G', 'A', 'T', 'A', 'T', 'G', 'T', 'T', 'A', 'T', 'G',\n        'A', 'C'])\ns8=''.join(['G', 'T', 'G', 'A', 'C', 'A', 'C', 'A', 'T', 'G', 'G', 'G', 'G',\n        'T', 'C'])\ns9=''.join(['G', 'T', 'G', 'A', 'C', 'A', 'C', 'A', 'T', 'T', 'A', 'T', 'G',\n        'T', 'C'])\nprint s0,s1,s2,s3,s4\nprint s5,s6,s7,s8,s9",
     "language": "python",
     "metadata": {},
     "outputs": [
      {
       "output_type": "stream",
       "stream": "stdout",
       "text": "GAGACTCATAATGTC GTTAGACAATATGTT CTGAAACACTATGTC CTGACACGTTATGTC GGGACACATAATGTC\nGTGAGAGACGATGTC GTGACACATTATGTC GTGATATGTTATGAC GTGACACATGGGGTC GTGACACATTATGTC\n"
      }
     ],
     "prompt_number": 317
    },
    {
     "cell_type": "markdown",
     "metadata": {},
     "source": "Vyp\u00edsanie n\u00e1jden\u00fdch sekvenci\u00ed z fasta s\u00faboru. Treba na otestovanie, \u010di sa naozaj nach\u00e1dzaj\u00fa v s\u00fabore"
    },
    {
     "cell_type": "heading",
     "level": 2,
     "metadata": {},
     "source": "Hlavn\u00e9 vykonanie gibbsovho vzorkovania pre MotSamShort"
    },
    {
     "cell_type": "markdown",
     "metadata": {},
     "source": "Pustanie gibbsovho vzorkovania na MotSamShort.fasta s poctom baz 9 a maximalne 4 mutaciami. Do premennych motif,score,array ukladame navratove hodnoty z metody.Tie zodpovedaju consensus motivu, skore consensus motivu od ostatnych sekvencii => sucet vzdialenosti od ostatnych sekvencii a vypis najdenych sekvencii. \n\nKedze skore obsahuje sucet vzdialenosti consensus motivu od ostatnych sekvencii a vieme ze sa maju vyskytovat najviac 4 mutacie, tak jedini vhodni kandidati su taki, kde skore bude menej ako 40 (pocetsekvencii * pocetmutacii). Kedze ale porovnavame menej baz ako v predchodzom pripade, tak dost casto dostaneme riesenie, v ktorom bude skore mensie ako 40, dokonca mensie ako 30. Tych najlepsich kandidatov si ukladame do 10 prvkoveho pola aby sme mohli vidiet ako sa vyvijalo hladanie riesenia."
    },
    {
     "cell_type": "code",
     "collapsed": false,
     "input": "# Nacitanie sekvencii z fasta suboru\nsequences2 = readFasta(seq2file,verbose=0);\n# ziskanie hodnot\nvalues = sequences2.values()\n# a klucov, ktore nevyuzijeme\nkeys = sequences2.keys()\n\n# Vytvorenie pola do ktoreho budeme ukladat 10 najlepsich behov\nbest2=[['',150,[]] for i in range(10)]\n\ntimeArray=[]\n\n# 50 krat opakujeme gibbsovo samplovanie s \nfor j in range(50) :\n    # Nastavenie casu\n    start = time.clock()\n    # Samplovanie pustame s dlzkou motivu 15. Argument 200 znaci kolko krat opakujeme iterovanie motivmi\n    motif,score,array = gibbsSampling(values,9,4,200,choice=0)\n    # Vypisanie aktualnej iteracie opakovania a ziskaneho skore\n    print 'Iter:',j,'with score',score,'and motify',motif\n    # Nasledne priradim tuto trojicu do pola best na index kam patri. Ked pole pretecie tak vymazem posledny prvok (ten najvacsi)\n    for k in range(10) :\n        if score < best2[k][1] :\n            best2.insert(k,[motif,score,array])\n            del best2[-1]\n            break\n    timeArray.append(time.clock()-start)        \n\nprint 'Gibbsovo vzorkovanie zbehlo v case',sum(timeArray)             ",
     "language": "python",
     "metadata": {},
     "outputs": [
      {
       "output_type": "stream",
       "stream": "stdout",
       "text": "Done with verbose= 0\nIter:"
      },
      {
       "output_type": "stream",
       "stream": "stdout",
       "text": " 0 with score 27 and motify AGCGTACGT\nIter:"
      },
      {
       "output_type": "stream",
       "stream": "stdout",
       "text": " 1 with score 29 and motify TTTTTATAC\nIter:"
      },
      {
       "output_type": "stream",
       "stream": "stdout",
       "text": " 2 with score 35 and motify ATGGACTGG\nIter:"
      },
      {
       "output_type": "stream",
       "stream": "stdout",
       "text": " 3 with score 23 and motify TAGAGCATT\nIter:"
      },
      {
       "output_type": "stream",
       "stream": "stdout",
       "text": " 4 with score 32 and motify GGCTGTCAC\nIter:"
      },
      {
       "output_type": "stream",
       "stream": "stdout",
       "text": " 5 with score 25 and motify CTTGGTATT\nIter:"
      },
      {
       "output_type": "stream",
       "stream": "stdout",
       "text": " 6 with score 33 and motify GGACCACTT\nIter:"
      },
      {
       "output_type": "stream",
       "stream": "stdout",
       "text": " 7 with score 28 and motify CGACCTTTT\nIter:"
      },
      {
       "output_type": "stream",
       "stream": "stdout",
       "text": " 8 with score 28 and motify CAGGTGAGT\nIter:"
      },
      {
       "output_type": "stream",
       "stream": "stdout",
       "text": " 9 with score 26 and motify GTGGTTCCA\nIter:"
      },
      {
       "output_type": "stream",
       "stream": "stdout",
       "text": " 10 with score 29 and motify GAGACATCT\nIter:"
      },
      {
       "output_type": "stream",
       "stream": "stdout",
       "text": " 11 with score 27 and motify TTGTTATGG\nIter:"
      },
      {
       "output_type": "stream",
       "stream": "stdout",
       "text": " 12 with score 34 and motify GACCGGTTG\nIter:"
      },
      {
       "output_type": "stream",
       "stream": "stdout",
       "text": " 13 with score 27 and motify TGTCTGTCA\nIter:"
      },
      {
       "output_type": "stream",
       "stream": "stdout",
       "text": " 14 with score 29 and motify CAGCCAAGA\nIter:"
      },
      {
       "output_type": "stream",
       "stream": "stdout",
       "text": " 15 with score 26 and motify GCAGGGAAG\nIter:"
      },
      {
       "output_type": "stream",
       "stream": "stdout",
       "text": " 16 with score 26 and motify AGTGACACA\nIter:"
      },
      {
       "output_type": "stream",
       "stream": "stdout",
       "text": " 17 with score 30 and motify AAGACACAC\nIter:"
      },
      {
       "output_type": "stream",
       "stream": "stdout",
       "text": " 18 with score 30 and motify TGTATCGTG\nIter:"
      },
      {
       "output_type": "stream",
       "stream": "stdout",
       "text": " 19 with score 27 and motify CACTTAAGT\nIter:"
      },
      {
       "output_type": "stream",
       "stream": "stdout",
       "text": " 20 with score 29 and motify CCAGAGACT\nIter:"
      },
      {
       "output_type": "stream",
       "stream": "stdout",
       "text": " 21 with score 29 and motify TTAGGGAAT\nIter:"
      },
      {
       "output_type": "stream",
       "stream": "stdout",
       "text": " 22 with score 29 and motify CACGATGTT\nIter:"
      },
      {
       "output_type": "stream",
       "stream": "stdout",
       "text": " 23 with score 31 and motify GCATTTTTC\nIter:"
      },
      {
       "output_type": "stream",
       "stream": "stdout",
       "text": " 24 with score 33 and motify AATTGAGTC\nIter:"
      },
      {
       "output_type": "stream",
       "stream": "stdout",
       "text": " 25 with score 30 and motify GGTTTTTCA\nIter:"
      },
      {
       "output_type": "stream",
       "stream": "stdout",
       "text": " 26 with score 29 and motify GCCGGGAGG\nIter:"
      },
      {
       "output_type": "stream",
       "stream": "stdout",
       "text": " 27 with score 31 and motify GCCGGAATG\nIter:"
      },
      {
       "output_type": "stream",
       "stream": "stdout",
       "text": " 28 with score 32 and motify CATGACATC\nIter:"
      },
      {
       "output_type": "stream",
       "stream": "stdout",
       "text": " 29 with score 32 and motify ACTGTCAGG\nIter:"
      },
      {
       "output_type": "stream",
       "stream": "stdout",
       "text": " 30 with score 29 and motify AGAGACATC\nIter:"
      },
      {
       "output_type": "stream",
       "stream": "stdout",
       "text": " 31 with score 31 and motify ATGCTAGGA\nIter:"
      },
      {
       "output_type": "stream",
       "stream": "stdout",
       "text": " 32 with score 20 and motify TTAGAGATT\nIter:"
      },
      {
       "output_type": "stream",
       "stream": "stdout",
       "text": " 33 with score 30 and motify CGCAGAGAG\nIter:"
      },
      {
       "output_type": "stream",
       "stream": "stdout",
       "text": " 34 with score 22 and motify CTTCGCGCA\nIter:"
      },
      {
       "output_type": "stream",
       "stream": "stdout",
       "text": " 35 with score 28 and motify GTTGGGAGG\nIter:"
      },
      {
       "output_type": "stream",
       "stream": "stdout",
       "text": " 36 with score 30 and motify CGGGAAGAA\nIter:"
      },
      {
       "output_type": "stream",
       "stream": "stdout",
       "text": " 37 with score 31 and motify CCACGACTT\nIter:"
      },
      {
       "output_type": "stream",
       "stream": "stdout",
       "text": " 38 with score 31 and motify TGTCTTCCC\nIter:"
      },
      {
       "output_type": "stream",
       "stream": "stdout",
       "text": " 39 with score 31 and motify CAGAACTGT\nIter:"
      },
      {
       "output_type": "stream",
       "stream": "stdout",
       "text": " 40 with score 29 and motify TGACTGGCA\nIter:"
      },
      {
       "output_type": "stream",
       "stream": "stdout",
       "text": " 41 with score 28 and motify TCCTTCACC\nIter:"
      },
      {
       "output_type": "stream",
       "stream": "stdout",
       "text": " 42 with score 29 and motify CTTCACAAA\nIter:"
      },
      {
       "output_type": "stream",
       "stream": "stdout",
       "text": " 43 with score 33 and motify GCGCCAAAC\nIter:"
      },
      {
       "output_type": "stream",
       "stream": "stdout",
       "text": " 44 with score 32 and motify CTAGCTAGC\nIter:"
      },
      {
       "output_type": "stream",
       "stream": "stdout",
       "text": " 45 with score 27 and motify CATTTTTCA\nIter:"
      },
      {
       "output_type": "stream",
       "stream": "stdout",
       "text": " 46 with score 25 and motify ACATGGTGG\nIter:"
      },
      {
       "output_type": "stream",
       "stream": "stdout",
       "text": " 47 with score 28 and motify TTGTCAGGT\nIter:"
      },
      {
       "output_type": "stream",
       "stream": "stdout",
       "text": " 48 with score 28 and motify ATGAGGCGT\nIter:"
      },
      {
       "output_type": "stream",
       "stream": "stdout",
       "text": " 49 with score 31 and motify GTAACTTGG\nGibbsovo vzorkovanie zbehlo v case 86.709381018\n"
      }
     ],
     "prompt_number": 19
    },
    {
     "cell_type": "heading",
     "level": 3,
     "metadata": {},
     "source": "Vysledky pre MatSamShort"
    },
    {
     "cell_type": "code",
     "collapsed": false,
     "input": "# Tento skript vyberie kazdu trojicu v ktorej su ulozene najlepsie najdene motify.\n# Z kazdej trojice vyberie pole (na druhom mieste) v ktorych su kusky sekvencii a \n# pre kazde zistime hamming vzdialenost od consensus motifu. Ked su vzdialenosti od consensus motifu\n# mensie alebo rovne hodnote mut tak je to spravny motif\n\nmut = 4\n\nfor i in range(len(best2)) :\n    w=[hamDist(best2[i][0],seq) for seq in best2[i][2]]    \n    if all([x <= mut for x in w]) :\n        print 'Optimal',w,'Consensus motif',best2[i][0]\n    else :\n        print w,'Consensus motif',best2[i][0]",
     "language": "python",
     "metadata": {},
     "outputs": [
      {
       "output_type": "stream",
       "stream": "stdout",
       "text": "Optimal [4, 2, 1, 2, 1, 2, 2, 3, 1, 2] Consensus motif TTAGAGATT\nOptimal [2, 1, 2, 3, 3, 2, 2, 2, 2, 3] Consensus motif CTTCGCGCA\nOptimal [4, 2, 1, 3, 1, 2, 2, 3, 4, 1] Consensus motif TAGAGCATT\nOptimal [3, 1, 3, 2, 3, 2, 4, 3, 2, 2] Consensus motif CTTGGTATT\n[1, 2, 1, 3, 5, 3, 4, 2, 1, 3] Consensus motif ACATGGTGG\nOptimal [3, 3, 1, 3, 3, 2, 4, 2, 2, 3] Consensus motif GTGGTTCCA\n[2, 1, 2, 4, 2, 5, 3, 3, 3, 1] Consensus motif GCAGGGAAG\n[3, 3, 2, 2, 2, 4, 2, 0, 3, 5] Consensus motif AGTGACACA\nOptimal [2, 4, 3, 1, 3, 1, 3, 4, 2, 4] Consensus motif AGCGTACGT\n[3, 2, 3, 2, 2, 2, 5, 5, 1, 2] Consensus motif TTGTTATGG\n"
      }
     ],
     "prompt_number": 20
    },
    {
     "cell_type": "markdown",
     "metadata": {},
     "source": "Vypocet bezi rychlejsie ako v predchadzajucom pripade hlavne kvoli zvoleniu poctu bazi na 9.\n\nVy\u0161\u0161ie je vidie\u0165 10 najlep\u0161\u00edch kandid\u00e1tov. V tomto pripade tiez nemozme vzdy na 100% povedat ci prv\u00fd (dokonca ani ostatok) z nich je ten optim\u00e1lny. V tomto pripade prve riesenie (ktore ma najmensi sucet vzdialenosti od consensu motivu) ma vzdialenos\u0165 consensus motivu od najdenych sekvencii [4, 2, 1, 2, 1, 2, 2, 3, 1, 2], kde su najviac 4 mutacie. Druhy, treti, stvrty, siesty, deviaty pripad je to iste, no ako vidiet tak dostavame vzdy rozne consensus motivy.\n\nPiaty, siedmy, osmy a desiaty pripad nie su v tomto pripade tie optimalne aj ked napriklad 5 riesenie ma mensi sucet vzdialenosti ako nasledujuce.\n"
    },
    {
     "cell_type": "code",
     "collapsed": false,
     "input": "best2",
     "language": "python",
     "metadata": {},
     "outputs": [
      {
       "metadata": {},
       "output_type": "pyout",
       "prompt_number": 21,
       "text": "[['TTAGAGATT',\n  20,\n  array([['T', 'T', 'T', 'T', 'G', 'G', 'A', 'T', 'G'],\n       ['T', 'T', 'A', 'T', 'C', 'G', 'A', 'T', 'T'],\n       ['T', 'T', 'G', 'G', 'A', 'G', 'A', 'T', 'T'],\n       ['G', 'T', 'G', 'G', 'A', 'G', 'A', 'T', 'T'],\n       ['T', 'T', 'A', 'G', 'A', 'G', 'A', 'G', 'T'],\n       ['T', 'T', 'A', 'C', 'A', 'G', 'C', 'T', 'T'],\n       ['T', 'T', 'T', 'G', 'G', 'G', 'A', 'T', 'T'],\n       ['T', 'T', 'T', 'A', 'A', 'G', 'A', 'T', 'A'],\n       ['T', 'T', 'A', 'G', 'A', 'G', 'G', 'T', 'T'],\n       ['T', 'T', 'A', 'G', 'G', 'G', 'A', 'C', 'T']], \n      dtype='|S1')],\n ['CTTCGCGCA',\n  22,\n  array([['C', 'A', 'T', 'C', 'G', 'C', 'G', 'A', 'A'],\n       ['C', 'T', 'T', 'C', 'G', 'C', 'G', 'T', 'A'],\n       ['C', 'G', 'T', 'C', 'G', 'C', 'G', 'G', 'A'],\n       ['A', 'A', 'T', 'C', 'G', 'C', 'A', 'C', 'A'],\n       ['C', 'T', 'T', 'G', 'G', 'C', 'G', 'A', 'C'],\n       ['C', 'T', 'T', 'C', 'T', 'C', 'C', 'C', 'A'],\n       ['C', 'T', 'T', 'C', 'G', 'G', 'G', 'C', 'G'],\n       ['C', 'T', 'T', 'C', 'G', 'T', 'T', 'C', 'A'],\n       ['C', 'A', 'T', 'C', 'G', 'C', 'C', 'C', 'A'],\n       ['C', 'G', 'T', 'C', 'G', 'T', 'C', 'C', 'A']], \n      dtype='|S1')],\n ['TAGAGCATT',\n  23,\n  array([['T', 'A', 'A', 'T', 'G', 'T', 'A', 'T', 'G'],\n       ['T', 'G', 'G', 'C', 'G', 'C', 'A', 'T', 'T'],\n       ['T', 'T', 'G', 'A', 'G', 'C', 'A', 'T', 'T'],\n       ['T', 'A', 'G', 'G', 'G', 'T', 'A', 'T', 'G'],\n       ['T', 'A', 'G', 'A', 'G', 'C', 'A', 'T', 'G'],\n       ['T', 'A', 'G', 'C', 'G', 'C', 'T', 'T', 'T'],\n       ['T', 'A', 'G', 'C', 'T', 'C', 'A', 'T', 'T'],\n       ['T', 'A', 'A', 'G', 'G', 'C', 'A', 'T', 'C'],\n       ['T', 'G', 'G', 'G', 'A', 'C', 'A', 'T', 'C'],\n       ['C', 'A', 'G', 'A', 'G', 'C', 'A', 'T', 'T']], \n      dtype='|S1')],\n ['CTTGGTATT',\n  25,\n  array([['C', 'G', 'T', 'G', 'G', 'T', 'G', 'A', 'T'],\n       ['C', 'T', 'T', 'G', 'G', 'T', 'A', 'T', 'G'],\n       ['C', 'T', 'A', 'G', 'G', 'T', 'G', 'G', 'T'],\n       ['A', 'T', 'T', 'G', 'G', 'T', 'A', 'A', 'T'],\n       ['C', 'T', 'A', 'G', 'G', 'A', 'A', 'T', 'C'],\n       ['C', 'T', 'T', 'G', 'G', 'T', 'A', 'A', 'G'],\n       ['C', 'G', 'T', 'G', 'A', 'T', 'A', 'G', 'G'],\n       ['A', 'T', 'T', 'G', 'G', 'T', 'T', 'T', 'G'],\n       ['C', 'T', 'T', 'G', 'G', 'T', 'G', 'G', 'T'],\n       ['C', 'G', 'T', 'G', 'G', 'T', 'T', 'T', 'T']], \n      dtype='|S1')],\n ['ACATGGTGG',\n  25,\n  array([['A', 'C', 'A', 'T', 'C', 'G', 'T', 'G', 'G'],\n       ['A', 'G', 'A', 'A', 'G', 'G', 'T', 'G', 'G'],\n       ['A', 'G', 'A', 'T', 'G', 'G', 'T', 'G', 'G'],\n       ['A', 'C', 'G', 'G', 'G', 'G', 'T', 'G', 'C'],\n       ['C', 'T', 'A', 'G', 'G', 'A', 'T', 'C', 'G'],\n       ['A', 'C', 'C', 'G', 'G', 'G', 'A', 'G', 'G'],\n       ['T', 'C', 'G', 'T', 'G', 'A', 'T', 'A', 'G'],\n       ['A', 'C', 'T', 'A', 'G', 'G', 'T', 'G', 'G'],\n       ['A', 'C', 'T', 'T', 'G', 'G', 'T', 'G', 'G'],\n       ['A', 'T', 'T', 'T', 'G', 'G', 'C', 'G', 'G']], \n      dtype='|S1')],\n ['GTGGTTCCA',\n  26,\n  array([['G', 'A', 'G', 'G', 'T', 'A', 'A', 'C', 'A'],\n       ['G', 'T', 'C', 'G', 'T', 'T', 'C', 'T', 'G'],\n       ['G', 'T', 'G', 'G', 'T', 'T', 'C', 'C', 'C'],\n       ['G', 'T', 'G', 'T', 'C', 'T', 'C', 'T', 'A'],\n       ['G', 'T', 'A', 'G', 'T', 'T', 'T', 'A', 'A'],\n       ['G', 'T', 'T', 'G', 'T', 'T', 'C', 'T', 'A'],\n       ['C', 'T', 'G', 'G', 'T', 'A', 'C', 'T', 'T'],\n       ['G', 'T', 'G', 'G', 'C', 'T', 'T', 'C', 'A'],\n       ['G', 'T', 'G', 'A', 'C', 'T', 'C', 'C', 'A'],\n       ['G', 'T', 'G', 'C', 'T', 'A', 'T', 'C', 'A']], \n      dtype='|S1')],\n ['GCAGGGAAG',\n  26,\n  array([['G', 'A', 'T', 'G', 'G', 'G', 'A', 'A', 'G'],\n       ['G', 'C', 'A', 'A', 'G', 'G', 'A', 'A', 'G'],\n       ['G', 'C', 'G', 'G', 'G', 'G', 'T', 'A', 'G'],\n       ['G', 'C', 'C', 'C', 'T', 'G', 'T', 'A', 'G'],\n       ['G', 'C', 'A', 'G', 'G', 'T', 'T', 'A', 'G'],\n       ['G', 'G', 'A', 'C', 'G', 'T', 'A', 'G', 'C'],\n       ['G', 'C', 'A', 'T', 'G', 'C', 'T', 'A', 'G'],\n       ['G', 'G', 'G', 'G', 'G', 'T', 'A', 'A', 'G'],\n       ['G', 'G', 'G', 'A', 'G', 'G', 'A', 'A', 'G'],\n       ['G', 'C', 'A', 'C', 'G', 'G', 'A', 'A', 'G']], \n      dtype='|S1')],\n ['AGTGACACA',\n  26,\n  array([['G', 'G', 'T', 'A', 'A', 'C', 'A', 'C', 'G'],\n       ['A', 'G', 'T', 'G', 'G', 'C', 'A', 'A', 'C'],\n       ['A', 'G', 'T', 'G', 'C', 'C', 'A', 'G', 'A'],\n       ['A', 'G', 'T', 'A', 'A', 'T', 'A', 'C', 'A'],\n       ['A', 'G', 'T', 'C', 'A', 'C', 'T', 'C', 'A'],\n       ['C', 'G', 'G', 'G', 'A', 'G', 'A', 'G', 'A'],\n       ['T', 'A', 'T', 'G', 'A', 'C', 'A', 'C', 'A'],\n       ['A', 'G', 'T', 'G', 'A', 'C', 'A', 'C', 'A'],\n       ['A', 'G', 'T', 'T', 'C', 'C', 'A', 'C', 'T'],\n       ['G', 'G', 'T', 'G', 'T', 'C', 'T', 'G', 'T']], \n      dtype='|S1')],\n ['AGCGTACGT',\n  27,\n  array([['A', 'G', 'C', 'G', 'T', 'A', 'A', 'G', 'G'],\n       ['A', 'T', 'C', 'T', 'G', 'G', 'C', 'G', 'T'],\n       ['A', 'G', 'C', 'T', 'G', 'A', 'C', 'T', 'T'],\n       ['A', 'G', 'C', 'T', 'T', 'A', 'C', 'G', 'T'],\n       ['A', 'G', 'C', 'C', 'G', 'A', 'C', 'G', 'G'],\n       ['A', 'G', 'A', 'G', 'T', 'A', 'C', 'G', 'T'],\n       ['T', 'G', 'C', 'G', 'T', 'T', 'C', 'G', 'G'],\n       ['T', 'G', 'G', 'C', 'T', 'T', 'C', 'G', 'T'],\n       ['A', 'G', 'G', 'G', 'G', 'A', 'C', 'G', 'T'],\n       ['A', 'T', 'G', 'G', 'A', 'A', 'C', 'G', 'A']], \n      dtype='|S1')],\n ['TTGTTATGG',\n  27,\n  array([['T', 'T', 'G', 'A', 'C', 'A', 'T', 'C', 'G'],\n       ['T', 'C', 'G', 'T', 'T', 'C', 'T', 'G', 'G'],\n       ['T', 'A', 'G', 'T', 'T', 'A', 'C', 'G', 'C'],\n       ['T', 'T', 'G', 'T', 'T', 'T', 'C', 'G', 'G'],\n       ['T', 'A', 'G', 'T', 'T', 'A', 'T', 'C', 'G'],\n       ['T', 'T', 'G', 'T', 'T', 'C', 'T', 'A', 'G'],\n       ['T', 'C', 'G', 'G', 'T', 'C', 'C', 'A', 'G'],\n       ['T', 'T', 'C', 'T', 'T', 'T', 'C', 'A', 'C'],\n       ['T', 'T', 'G', 'T', 'T', 'A', 'G', 'G', 'G'],\n       ['C', 'A', 'G', 'T', 'T', 'A', 'T', 'G', 'G']], \n      dtype='|S1')]]"
      }
     ],
     "prompt_number": 21
    },
    {
     "cell_type": "heading",
     "level": 2,
     "metadata": {},
     "source": "Konecne Vysledky"
    },
    {
     "cell_type": "markdown",
     "metadata": {},
     "source": "1.\nV subore MotSam sme nasli motiv GTGACACATTATGTC. \n\nParametre gibbsovho vzorkovania boli : \n\n    pocet opakovani = 50\n    \n    pocet iteracii = 200\n    \n    pocet bazi = 15\n    \n    pocet mutacii = 4\n\n2.\nVypocet v tomto pripade trval priblizne 3 minuty. V priebehu vypoctu bolo po kazdom zbehnuti gibbsovho vzorkovanie vidiet ten najlepsi najdeny motiv s vypocitanym skore pre najdene sekvencie. Skore sa pohybovali do 60 a najlepsi motiv [GTGACACATTATGTC] sa zda byt so skore 25. Neukazujem startovacie pozicie sekvencii, kedze to je len formalita.\n\n3.\nNasli sme teda motiv GTGACACATTATGTC, so skore 25\n\nVzdialenost tohoto motivu od ostatnych sekvencii je [3, 4, 3, 2, 2, 4, 0, 4, 3, 0]. (sucet dava 25)\n\n4.\nGibbsovo vzorkovanie ma mnoho problemov. \n\nProblemy :\n\nVo vela pripadoch bezi dobre, ale velmi lahko dokaze skonvergovat k nejakemu suboptimalnemu rieseniu. (nespolahlivost)\n\nDalsim problemom je, ze algoritmus je pritahovany k low-complexity oblastiam hlavne v pripade, ked vstupne sekvencie obsahuju niektore nucleotidy viacero razy nez ine.\n\nRiesenia :\n\nOpakovanie gibbsovho vzorkovania viacero razy a dufat ze niektory z behov da optimalne riesenie. Toto sme robili aj my (pocetopakovanie=50, spolahlivejsie). Taktiez vyuzivat Laplaceovo pravidlo uspechu, kde pri vytvarani profilu (matice) pridame ku kazdej bunke jednotku => nedostaneme pravdepodobnost 0 v ziadnom pripade.\n\nVyuzivat relativne entropie namiesto frekvencii (zabranenie druheho pripadu)\n\nRychlost by sa dala vyriesit znizenim poctu iteracii v jednom gibbsovom vzorkovani, ci znizenim poctu opakovani vzorkovania. Tak ci tak znizime kvalitu najdeneho riesenia.\n\n5.\nV subore MotSamShort sme nasli viacero motivov, ktore pasuju podmienke aby boli najviac 4 mutacie.\n\nmotivy = [TTAGAGATT,CTTCGCGCA,TAGAGCATT,CTTGGTATT,GTGGTTCCA,AGCGTACGT]\n\nNajmensie skore ma znich motiv TTAGAGATT, no to neznamena, ze to ma byt ten implantovany.\n\nVypocet v tomto pripade bol rychlejsi (90 sekund), pri ponechani rovnakych parametrov ako v prvom pripade. Vysledok je ale nejednoznacny kvoli viacero najdenym vyhovujucim motivom. Taktiez sa mohlo stat ze skutocny motiv dokonca neni zaradeny medzi kandidatmi (10 prvkove pole najlepsich kandidatov), kvoli tomu ze bol vytlaceny nejakym s mensim skore.\n\n    "
    }
   ],
   "metadata": {}
  }
 ]
}